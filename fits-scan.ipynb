{
 "cells": [
  {
   "metadata": {},
   "cell_type": "markdown",
   "source": "# OCA FLAT Files Scan and Analysis",
   "id": "2204166c5c4f35d3"
  },
  {
   "metadata": {
    "ExecuteTime": {
     "end_time": "2024-12-12T08:53:38.954747Z",
     "start_time": "2024-12-12T08:53:38.938602Z"
    }
   },
   "cell_type": "code",
   "source": [
    "import datetime\n",
    "from datetime import timedelta\n",
    "import matplotlib.pyplot as plt\n",
    "\n",
    "from pathlib import Path\n",
    "\n",
    "from astropy.io import fits\n",
    "from astropy.coordinates import EarthLocation, AltAz, get_sun\n",
    "from astropy.time import Time\n",
    "\n",
    "import numpy as np\n",
    "\n",
    "import polars as pl\n",
    "\n",
    "from rich.progress import Progress"
   ],
   "id": "6aca0a3a028cfa1d",
   "outputs": [],
   "execution_count": 90
  },
  {
   "metadata": {},
   "cell_type": "markdown",
   "source": "## Config",
   "id": "f3259ec7bc5958c6"
  },
  {
   "metadata": {
    "ExecuteTime": {
     "end_time": "2024-12-12T06:20:49.314444Z",
     "start_time": "2024-12-12T06:20:49.310213Z"
    }
   },
   "cell_type": "code",
   "source": [
    "base_dir = '~/data/fits'\n",
    "telescopes = ['zb08', 'wk06', 'jk15']\n",
    "\n",
    "tel = 'jk15'\n",
    "\n",
    "observatory = EarthLocation.of_site('OCA')\n",
    "all_flat_file = Path(f\"{tel}_all_flat_file_stats.parquet\")\n"
   ],
   "id": "7938c6f113f5f252",
   "outputs": [],
   "execution_count": 64
  },
  {
   "metadata": {},
   "cell_type": "markdown",
   "source": "Directories",
   "id": "8f987d1429c11f47"
  },
  {
   "metadata": {
    "ExecuteTime": {
     "end_time": "2024-12-12T03:05:21.206594Z",
     "start_time": "2024-12-12T03:05:21.203620Z"
    }
   },
   "cell_type": "code",
   "source": "flats_dir = Path(base_dir).expanduser() / Path(tel) / Path('processed-ofp/flats')\n",
   "id": "5fbc58e0600b7ea5",
   "outputs": [],
   "execution_count": 14
  },
  {
   "metadata": {
    "ExecuteTime": {
     "end_time": "2024-12-12T03:06:52.174777Z",
     "start_time": "2024-12-12T03:06:52.163733Z"
    }
   },
   "cell_type": "code",
   "source": [
    "filters = [f.name for f in flats_dir.glob('*')]\n",
    "print('Recognized filters:', filters)"
   ],
   "id": "63ccb3d974175fe4",
   "outputs": [
    {
     "name": "stdout",
     "output_type": "stream",
     "text": [
      "Recognized filters: ['empty', 'i', 'z', 'Ha_w', 'u_s', 'Ic', 'b_s', 'B', 'V', 'g', 'v_s', 'y_s', 'r', 'u']\n"
     ]
    }
   ],
   "execution_count": 18
  },
  {
   "metadata": {
    "ExecuteTime": {
     "end_time": "2024-12-12T06:07:33.458489Z",
     "start_time": "2024-12-12T05:06:48.006080Z"
    }
   },
   "cell_type": "code",
   "source": [
    "stats_df = pl.DataFrame(schema={\n",
    "    \"filter\": pl.Utf8,\n",
    "    \"file\": pl.Utf8,\n",
    "    \"exptime\": pl.Float64,\n",
    "    \"date-obs\": pl.Datetime,\n",
    "    \"sun-alt\": pl.Float64,\n",
    "    \"mean\": pl.Float64,\n",
    "    \"median\": pl.Float64,\n",
    "    \"std\": pl.Float64,\n",
    "    \"min\": pl.Float64,\n",
    "    \"max\": pl.Float64,\n",
    "    \"min-05\": pl.Float64,\n",
    "    \"max-95\": pl.Float64,\n",
    "    \"mean-central-90\": pl.Float64,\n",
    "    \"read-mod\": pl.Int64,\n",
    "    \"gain-mod\": pl.Int64,\n",
    "    \"flat-era\": pl.Int64,\n",
    "    \"test\": pl.Int64,\n",
    "    \"bitpix\": pl.Int64,\n",
    "})\n",
    "\n",
    "with Progress() as progress:\n",
    "    filter_task = progress.add_task(\"[cyan]Filter...\", total=len(filters))\n",
    "    for f in filters:\n",
    "        # individual raw fits for ADU/s\n",
    "        paths = list((flats_dir / Path(f)).glob(f'*/{tel}?_????_?????.fits'))\n",
    "        file_task = progress.add_task(f\"[green]FLATS of {f}...\", total=len(paths))\n",
    "        for p in paths:\n",
    "            with fits.open(p) as hdul:\n",
    "                hdu = hdul[0]\n",
    "                date_obs = Time(hdu.header['DATE-OBS'], format='isot', scale='utc')\n",
    "                altaz_frame = AltAz(obstime=date_obs, location=observatory)\n",
    "                lower, upper = np.percentile(hdu.data, [5, 95])\n",
    "\n",
    "                row = pl.DataFrame([{\n",
    "                    'filter': f,\n",
    "                    'file': p.name,\n",
    "                    'exptime': hdu.header['EXPTIME'],\n",
    "                    'date-obs': date_obs.to_datetime(),\n",
    "                    'sun-alt': get_sun(date_obs).transform_to(altaz_frame).alt.deg,\n",
    "                    'mean': hdu.data.mean(),\n",
    "                    'median': np.median(hdu.data),\n",
    "                    'std': hdu.data.std(),\n",
    "                    'min': float(hdu.data.min()),\n",
    "                    'max': float(hdu.data.max()),\n",
    "                    'min-05': float(lower),\n",
    "                    'max-95': float(upper),\n",
    "                    'mean-central-90': np.mean(hdu.data[(hdu.data > lower) & (hdu.data < upper)]),\n",
    "                    'read-mod': hdu.header['READ-MOD'],\n",
    "                    'gain-mod': hdu.header['GAIN-MOD'],\n",
    "                    'flat-era': hdu.header.get('FLAT-ERA', 0),\n",
    "                    'test': hdu.header.get('TEST', 0),\n",
    "                    'bitpix': hdu.header['BITPIX'],\n",
    "                }])\n",
    "                stats_df = pl.concat([stats_df, row], how='vertical')\n",
    "                progress.update(file_task, advance=1)\n",
    "        progress.update(filter_task, advance=1)"
   ],
   "id": "d118636f3936f089",
   "outputs": [
    {
     "data": {
      "text/plain": [
       "Output()"
      ],
      "application/vnd.jupyter.widget-view+json": {
       "version_major": 2,
       "version_minor": 0,
       "model_id": "fd0a81d13056405ea35e858f3861963d"
      }
     },
     "metadata": {},
     "output_type": "display_data"
    },
    {
     "data": {
      "text/plain": [],
      "text/html": [
       "<pre style=\"white-space:pre;overflow-x:auto;line-height:normal;font-family:Menlo,'DejaVu Sans Mono',consolas,'Courier New',monospace\"></pre>\n"
      ]
     },
     "metadata": {},
     "output_type": "display_data"
    }
   ],
   "execution_count": 59
  },
  {
   "metadata": {
    "ExecuteTime": {
     "end_time": "2024-12-12T06:21:04.176207Z",
     "start_time": "2024-12-12T06:21:04.140199Z"
    }
   },
   "cell_type": "code",
   "source": [
    "stats_df.write_parquet(all_flat_file)\n",
    "print(f'All flat files stats saved to {all_flat_file}, {len(stats_df)} records')"
   ],
   "id": "8cb30da826db04ac",
   "outputs": [
    {
     "name": "stdout",
     "output_type": "stream",
     "text": [
      "All flat files stats saved to jk15_all_flat_file_stats.parquet, 1225 records\n"
     ]
    }
   ],
   "execution_count": 66
  },
  {
   "metadata": {
    "ExecuteTime": {
     "end_time": "2024-12-12T07:09:14.087746Z",
     "start_time": "2024-12-12T07:09:14.083405Z"
    }
   },
   "cell_type": "code",
   "source": [
    "stats_df = stats_df.with_columns(\n",
    "    ((stats_df['mean-central-90'] - 0) / stats_df['exptime']).alias(\"speed\")\n",
    ")"
   ],
   "id": "184027ff491a727d",
   "outputs": [],
   "execution_count": 69
  },
  {
   "metadata": {
    "ExecuteTime": {
     "end_time": "2024-12-13T06:57:04.276980Z",
     "start_time": "2024-12-13T06:57:04.151556Z"
    }
   },
   "cell_type": "code",
   "source": [
    "import plotly.express as px\n",
    "\n",
    "read_mode = 5\n",
    "\n",
    "filtered_data = stats_df.filter(\n",
    "    (stats_df['sun-alt'] >= -10) &\n",
    "    (stats_df['sun-alt'] <= 2) &\n",
    "    (stats_df['read-mod'] == read_mode)\n",
    ")\n",
    "\n",
    "morning_conditions = (filtered_data['date-obs'].dt.hour().is_between(3, 9, closed=\"both\"))\n",
    "\n",
    "morning_data = filtered_data.filter(morning_conditions).sort(\"sun-alt\").to_dict()\n",
    "evening_data = filtered_data.filter(~morning_conditions).sort(\"sun-alt\").to_dict()\n",
    "\n",
    "\n",
    "def plot_speed_vs_sun_alt(data, title):\n",
    "    fig = px.line(\n",
    "        data,\n",
    "        x=\"sun-alt\",\n",
    "        y=\"speed\",\n",
    "        color=\"filter\",\n",
    "        line_group=\"filter\",\n",
    "        hover_data=[\"file\", \"exptime\", \"read-mod\", \"gain-mod\", \"date-obs\"],\n",
    "        title=title,\n",
    "        labels={\"sun-alt\": \"Sun Altitude (deg)\", \"speed\": \"ADU/s\"},\n",
    "        log_y=True  # Log scale\n",
    "    )\n",
    "    fig.show()\n",
    "\n",
    "for decr, data in [(\"Morning\", morning_data), (\"Evening\", evening_data)]:\n",
    "    plot_speed_vs_sun_alt(data, f\"ADU/s vs Sun Altitude ({decr}, read-mod={read_mode})\")"
   ],
   "id": "dcfb24ba7cb6d745",
   "outputs": [
    {
     "data": {
      "application/vnd.plotly.v1+json": {
       "data": [
        {
         "customdata": [
          [
           "jk15c_0654_87510.fits",
           1.0,
           5,
           2,
           "2024-12-10T09:00:08.529993"
          ],
          [
           "jk15c_0654_87585.fits",
           1.0,
           5,
           2,
           "2024-12-10T09:01:13.776489"
          ],
          [
           "jk15c_0654_87662.fits",
           1.0,
           5,
           2,
           "2024-12-10T09:02:19.900246"
          ],
          [
           "jk15c_0654_87737.fits",
           1.0,
           5,
           2,
           "2024-12-10T09:03:24.944115"
          ],
          [
           "jk15c_0654_87813.fits",
           1.0,
           5,
           2,
           "2024-12-10T09:04:30.705286"
          ],
          [
           "jk15c_0654_87889.fits",
           1.0,
           5,
           2,
           "2024-12-10T09:05:36.444912"
          ],
          [
           "jk15c_0654_87965.fits",
           1.0,
           5,
           2,
           "2024-12-10T09:06:41.934765"
          ],
          [
           "jk15c_0654_88041.fits",
           1.0,
           5,
           2,
           "2024-12-10T09:07:47.435103"
          ],
          [
           "jk15c_0654_88117.fits",
           1.0,
           5,
           2,
           "2024-12-10T09:08:52.750776"
          ],
          [
           "jk15c_0654_88193.fits",
           1.0,
           5,
           2,
           "2024-12-10T09:09:58.779245"
          ],
          [
           "jk15c_0654_88269.fits",
           1.0,
           5,
           2,
           "2024-12-10T09:11:04.169761"
          ],
          [
           "jk15c_0654_88345.fits",
           1.0,
           5,
           2,
           "2024-12-10T09:12:09.805130"
          ],
          [
           "jk15c_0654_88420.fits",
           1.0,
           5,
           2,
           "2024-12-10T09:13:15.155398"
          ],
          [
           "jk15c_0654_88496.fits",
           1.0,
           5,
           2,
           "2024-12-10T09:14:20.658458"
          ],
          [
           "jk15c_0654_88671.fits",
           1.0,
           5,
           2,
           "2024-12-10T09:16:52.158131"
          ],
          [
           "jk15c_0654_88749.fits",
           1.0,
           5,
           2,
           "2024-12-10T09:17:58.929167"
          ],
          [
           "jk15c_0654_88826.fits",
           1.0,
           5,
           2,
           "2024-12-10T09:19:05.965199"
          ],
          [
           "jk15c_0654_88903.fits",
           1.0,
           5,
           2,
           "2024-12-10T09:20:12.353562"
          ],
          [
           "jk15c_0654_88981.fits",
           1.0,
           5,
           2,
           "2024-12-10T09:21:19.717407"
          ],
          [
           "jk15c_0654_89059.fits",
           1.0,
           5,
           2,
           "2024-12-10T09:22:26.603727"
          ],
          [
           "jk15c_0654_89136.fits",
           1.0,
           5,
           2,
           "2024-12-10T09:23:33.752313"
          ],
          [
           "jk15c_0654_89212.fits",
           1.0,
           5,
           2,
           "2024-12-10T09:24:39.208047"
          ],
          [
           "jk15c_0654_89288.fits",
           1.0,
           5,
           2,
           "2024-12-10T09:25:44.679620"
          ],
          [
           "jk15c_0654_89364.fits",
           1.0,
           5,
           2,
           "2024-12-10T09:26:50.173328"
          ],
          [
           "jk15c_0654_89440.fits",
           1.0,
           5,
           2,
           "2024-12-10T09:27:56.338872"
          ],
          [
           "jk15c_0654_89516.fits",
           1.0,
           5,
           2,
           "2024-12-10T09:29:02.202039"
          ],
          [
           "jk15c_0654_89592.fits",
           1.0,
           5,
           2,
           "2024-12-10T09:30:07.230976"
          ],
          [
           "jk15c_0654_89668.fits",
           1.0,
           5,
           2,
           "2024-12-10T09:31:12.750465"
          ],
          [
           "jk15c_0654_89744.fits",
           1.0,
           5,
           2,
           "2024-12-10T09:32:18.837352"
          ],
          [
           "jk15c_0654_89820.fits",
           1.0,
           5,
           2,
           "2024-12-10T09:33:24.220835"
          ],
          [
           "jk15c_0654_89896.fits",
           1.0,
           5,
           2,
           "2024-12-10T09:34:30.240909"
          ],
          [
           "jk15c_0654_89972.fits",
           1.0,
           5,
           2,
           "2024-12-10T09:35:35.936223"
          ],
          [
           "jk15c_0654_90048.fits",
           1.0,
           5,
           2,
           "2024-12-10T09:36:41.531072"
          ],
          [
           "jk15c_0654_90124.fits",
           1.0,
           5,
           2,
           "2024-12-10T09:37:46.950811"
          ],
          [
           "jk15c_0654_90299.fits",
           1.0,
           5,
           2,
           "2024-12-10T09:40:18.246997"
          ],
          [
           "jk15c_0654_90377.fits",
           1.0,
           5,
           2,
           "2024-12-10T09:41:25.396053"
          ],
          [
           "jk15c_0654_90454.fits",
           1.0,
           5,
           2,
           "2024-12-10T09:42:31.905594"
          ],
          [
           "jk15c_0654_90530.fits",
           1.0,
           5,
           2,
           "2024-12-10T09:43:37.947466"
          ],
          [
           "jk15c_0654_90607.fits",
           1.0,
           5,
           2,
           "2024-12-10T09:44:44.523250"
          ],
          [
           "jk15c_0654_90685.fits",
           1.0,
           5,
           2,
           "2024-12-10T09:45:51.967764"
          ],
          [
           "jk15c_0654_90762.fits",
           1.0,
           5,
           2,
           "2024-12-10T09:46:58.341267"
          ],
          [
           "jk15c_0654_90840.fits",
           1.0,
           5,
           2,
           "2024-12-10T09:48:05.350165"
          ],
          [
           "jk15c_0654_90915.fits",
           1.0,
           5,
           2,
           "2024-12-10T09:49:10.780966"
          ],
          [
           "jk15c_0654_90993.fits",
           1.0,
           5,
           2,
           "2024-12-10T09:50:17.594639"
          ]
         ],
         "hovertemplate": "filter=y_s<br>Sun Altitude (deg)=%{x}<br>ADU/s=%{y}<br>file=%{customdata[0]}<br>exptime=%{customdata[1]}<br>read-mod=%{customdata[2]}<br>gain-mod=%{customdata[3]}<br>date-obs=%{customdata[4]}<extra></extra>",
         "legendgroup": "y_s",
         "line": {
          "color": "#636efa",
          "dash": "solid"
         },
         "marker": {
          "symbol": "circle"
         },
         "mode": "lines",
         "name": "y_s",
         "orientation": "v",
         "showlegend": true,
         "x": [
          -9.793635104575962,
          -9.58155560949377,
          -9.366321576672588,
          -9.154307372270502,
          -8.939659849957913,
          -8.724788358904318,
          -8.510443068279615,
          -8.295776107683933,
          -8.08143051211743,
          -7.864459978490694,
          -7.649304896113486,
          -7.433065368981024,
          -7.217489856514716,
          -7.00113690943685,
          -6.49970538093555,
          -6.278253333511251,
          -6.05564612122346,
          -5.834919029774206,
          -5.61067567344045,
          -5.38775207526672,
          -5.163686126467561,
          -4.94501240227795,
          -4.726034388331252,
          -4.506732813845946,
          -4.2849302420591835,
          -4.0638923679308885,
          -3.84541245445048,
          -3.6250434331570784,
          -3.4025229247507798,
          -3.1821324930297665,
          -2.9593576503151495,
          -2.7374425303482006,
          -2.5156336324182798,
          -2.2941866707745016,
          -1.7811757609632857,
          -1.5531035203666053,
          -1.3269726821233772,
          -1.1022065265473697,
          -0.8753977527388627,
          -0.6454003865554963,
          -0.41883210253771075,
          -0.18987201947420923,
          0.033910286074012,
          0.2626390406266488
         ],
         "xaxis": "x",
         "y": [
          1117.9259052420518,
          1117.8846469066027,
          1118.7315871062012,
          1117.4637734836178,
          1118.0684402620068,
          1117.6543294422959,
          1118.27671202081,
          1118.1250706467788,
          1118.4624467048584,
          1117.547079723517,
          1118.5126753208367,
          1117.8522770041275,
          1118.0308524442428,
          1118.36399115463,
          1118.4260768586093,
          1118.3223007431434,
          1117.656426834726,
          1118.300285634378,
          1118.0672525542236,
          1118.5879148041981,
          1117.8021082949438,
          1118.6526534984605,
          1118.5969012716214,
          1118.341137309053,
          1118.9256005590855,
          1117.634073477274,
          1117.7490211019672,
          1118.055679451072,
          1118.0534116593083,
          1118.2027438513485,
          1118.711706994212,
          1118.6549422817159,
          1118.6370901517355,
          1118.1591483071936,
          1118.0012106555312,
          1118.39214276416,
          1118.0578788282126,
          1117.8964425782915,
          1118.5591694010698,
          1118.2411330538816,
          1118.2170214962616,
          1117.9223867142334,
          1118.4774253324065,
          1118.0587500932868
         ],
         "yaxis": "y",
         "type": "scatter"
        }
       ],
       "layout": {
        "template": {
         "data": {
          "histogram2dcontour": [
           {
            "type": "histogram2dcontour",
            "colorbar": {
             "outlinewidth": 0,
             "ticks": ""
            },
            "colorscale": [
             [
              0.0,
              "#0d0887"
             ],
             [
              0.1111111111111111,
              "#46039f"
             ],
             [
              0.2222222222222222,
              "#7201a8"
             ],
             [
              0.3333333333333333,
              "#9c179e"
             ],
             [
              0.4444444444444444,
              "#bd3786"
             ],
             [
              0.5555555555555556,
              "#d8576b"
             ],
             [
              0.6666666666666666,
              "#ed7953"
             ],
             [
              0.7777777777777778,
              "#fb9f3a"
             ],
             [
              0.8888888888888888,
              "#fdca26"
             ],
             [
              1.0,
              "#f0f921"
             ]
            ]
           }
          ],
          "choropleth": [
           {
            "type": "choropleth",
            "colorbar": {
             "outlinewidth": 0,
             "ticks": ""
            }
           }
          ],
          "histogram2d": [
           {
            "type": "histogram2d",
            "colorbar": {
             "outlinewidth": 0,
             "ticks": ""
            },
            "colorscale": [
             [
              0.0,
              "#0d0887"
             ],
             [
              0.1111111111111111,
              "#46039f"
             ],
             [
              0.2222222222222222,
              "#7201a8"
             ],
             [
              0.3333333333333333,
              "#9c179e"
             ],
             [
              0.4444444444444444,
              "#bd3786"
             ],
             [
              0.5555555555555556,
              "#d8576b"
             ],
             [
              0.6666666666666666,
              "#ed7953"
             ],
             [
              0.7777777777777778,
              "#fb9f3a"
             ],
             [
              0.8888888888888888,
              "#fdca26"
             ],
             [
              1.0,
              "#f0f921"
             ]
            ]
           }
          ],
          "heatmap": [
           {
            "type": "heatmap",
            "colorbar": {
             "outlinewidth": 0,
             "ticks": ""
            },
            "colorscale": [
             [
              0.0,
              "#0d0887"
             ],
             [
              0.1111111111111111,
              "#46039f"
             ],
             [
              0.2222222222222222,
              "#7201a8"
             ],
             [
              0.3333333333333333,
              "#9c179e"
             ],
             [
              0.4444444444444444,
              "#bd3786"
             ],
             [
              0.5555555555555556,
              "#d8576b"
             ],
             [
              0.6666666666666666,
              "#ed7953"
             ],
             [
              0.7777777777777778,
              "#fb9f3a"
             ],
             [
              0.8888888888888888,
              "#fdca26"
             ],
             [
              1.0,
              "#f0f921"
             ]
            ]
           }
          ],
          "heatmapgl": [
           {
            "type": "heatmapgl",
            "colorbar": {
             "outlinewidth": 0,
             "ticks": ""
            },
            "colorscale": [
             [
              0.0,
              "#0d0887"
             ],
             [
              0.1111111111111111,
              "#46039f"
             ],
             [
              0.2222222222222222,
              "#7201a8"
             ],
             [
              0.3333333333333333,
              "#9c179e"
             ],
             [
              0.4444444444444444,
              "#bd3786"
             ],
             [
              0.5555555555555556,
              "#d8576b"
             ],
             [
              0.6666666666666666,
              "#ed7953"
             ],
             [
              0.7777777777777778,
              "#fb9f3a"
             ],
             [
              0.8888888888888888,
              "#fdca26"
             ],
             [
              1.0,
              "#f0f921"
             ]
            ]
           }
          ],
          "contourcarpet": [
           {
            "type": "contourcarpet",
            "colorbar": {
             "outlinewidth": 0,
             "ticks": ""
            }
           }
          ],
          "contour": [
           {
            "type": "contour",
            "colorbar": {
             "outlinewidth": 0,
             "ticks": ""
            },
            "colorscale": [
             [
              0.0,
              "#0d0887"
             ],
             [
              0.1111111111111111,
              "#46039f"
             ],
             [
              0.2222222222222222,
              "#7201a8"
             ],
             [
              0.3333333333333333,
              "#9c179e"
             ],
             [
              0.4444444444444444,
              "#bd3786"
             ],
             [
              0.5555555555555556,
              "#d8576b"
             ],
             [
              0.6666666666666666,
              "#ed7953"
             ],
             [
              0.7777777777777778,
              "#fb9f3a"
             ],
             [
              0.8888888888888888,
              "#fdca26"
             ],
             [
              1.0,
              "#f0f921"
             ]
            ]
           }
          ],
          "surface": [
           {
            "type": "surface",
            "colorbar": {
             "outlinewidth": 0,
             "ticks": ""
            },
            "colorscale": [
             [
              0.0,
              "#0d0887"
             ],
             [
              0.1111111111111111,
              "#46039f"
             ],
             [
              0.2222222222222222,
              "#7201a8"
             ],
             [
              0.3333333333333333,
              "#9c179e"
             ],
             [
              0.4444444444444444,
              "#bd3786"
             ],
             [
              0.5555555555555556,
              "#d8576b"
             ],
             [
              0.6666666666666666,
              "#ed7953"
             ],
             [
              0.7777777777777778,
              "#fb9f3a"
             ],
             [
              0.8888888888888888,
              "#fdca26"
             ],
             [
              1.0,
              "#f0f921"
             ]
            ]
           }
          ],
          "mesh3d": [
           {
            "type": "mesh3d",
            "colorbar": {
             "outlinewidth": 0,
             "ticks": ""
            }
           }
          ],
          "scatter": [
           {
            "fillpattern": {
             "fillmode": "overlay",
             "size": 10,
             "solidity": 0.2
            },
            "type": "scatter"
           }
          ],
          "parcoords": [
           {
            "type": "parcoords",
            "line": {
             "colorbar": {
              "outlinewidth": 0,
              "ticks": ""
             }
            }
           }
          ],
          "scatterpolargl": [
           {
            "type": "scatterpolargl",
            "marker": {
             "colorbar": {
              "outlinewidth": 0,
              "ticks": ""
             }
            }
           }
          ],
          "bar": [
           {
            "error_x": {
             "color": "#2a3f5f"
            },
            "error_y": {
             "color": "#2a3f5f"
            },
            "marker": {
             "line": {
              "color": "#E5ECF6",
              "width": 0.5
             },
             "pattern": {
              "fillmode": "overlay",
              "size": 10,
              "solidity": 0.2
             }
            },
            "type": "bar"
           }
          ],
          "scattergeo": [
           {
            "type": "scattergeo",
            "marker": {
             "colorbar": {
              "outlinewidth": 0,
              "ticks": ""
             }
            }
           }
          ],
          "scatterpolar": [
           {
            "type": "scatterpolar",
            "marker": {
             "colorbar": {
              "outlinewidth": 0,
              "ticks": ""
             }
            }
           }
          ],
          "histogram": [
           {
            "marker": {
             "pattern": {
              "fillmode": "overlay",
              "size": 10,
              "solidity": 0.2
             }
            },
            "type": "histogram"
           }
          ],
          "scattergl": [
           {
            "type": "scattergl",
            "marker": {
             "colorbar": {
              "outlinewidth": 0,
              "ticks": ""
             }
            }
           }
          ],
          "scatter3d": [
           {
            "type": "scatter3d",
            "line": {
             "colorbar": {
              "outlinewidth": 0,
              "ticks": ""
             }
            },
            "marker": {
             "colorbar": {
              "outlinewidth": 0,
              "ticks": ""
             }
            }
           }
          ],
          "scattermapbox": [
           {
            "type": "scattermapbox",
            "marker": {
             "colorbar": {
              "outlinewidth": 0,
              "ticks": ""
             }
            }
           }
          ],
          "scatterternary": [
           {
            "type": "scatterternary",
            "marker": {
             "colorbar": {
              "outlinewidth": 0,
              "ticks": ""
             }
            }
           }
          ],
          "scattercarpet": [
           {
            "type": "scattercarpet",
            "marker": {
             "colorbar": {
              "outlinewidth": 0,
              "ticks": ""
             }
            }
           }
          ],
          "carpet": [
           {
            "aaxis": {
             "endlinecolor": "#2a3f5f",
             "gridcolor": "white",
             "linecolor": "white",
             "minorgridcolor": "white",
             "startlinecolor": "#2a3f5f"
            },
            "baxis": {
             "endlinecolor": "#2a3f5f",
             "gridcolor": "white",
             "linecolor": "white",
             "minorgridcolor": "white",
             "startlinecolor": "#2a3f5f"
            },
            "type": "carpet"
           }
          ],
          "table": [
           {
            "cells": {
             "fill": {
              "color": "#EBF0F8"
             },
             "line": {
              "color": "white"
             }
            },
            "header": {
             "fill": {
              "color": "#C8D4E3"
             },
             "line": {
              "color": "white"
             }
            },
            "type": "table"
           }
          ],
          "barpolar": [
           {
            "marker": {
             "line": {
              "color": "#E5ECF6",
              "width": 0.5
             },
             "pattern": {
              "fillmode": "overlay",
              "size": 10,
              "solidity": 0.2
             }
            },
            "type": "barpolar"
           }
          ],
          "pie": [
           {
            "automargin": true,
            "type": "pie"
           }
          ]
         },
         "layout": {
          "autotypenumbers": "strict",
          "colorway": [
           "#636efa",
           "#EF553B",
           "#00cc96",
           "#ab63fa",
           "#FFA15A",
           "#19d3f3",
           "#FF6692",
           "#B6E880",
           "#FF97FF",
           "#FECB52"
          ],
          "font": {
           "color": "#2a3f5f"
          },
          "hovermode": "closest",
          "hoverlabel": {
           "align": "left"
          },
          "paper_bgcolor": "white",
          "plot_bgcolor": "#E5ECF6",
          "polar": {
           "bgcolor": "#E5ECF6",
           "angularaxis": {
            "gridcolor": "white",
            "linecolor": "white",
            "ticks": ""
           },
           "radialaxis": {
            "gridcolor": "white",
            "linecolor": "white",
            "ticks": ""
           }
          },
          "ternary": {
           "bgcolor": "#E5ECF6",
           "aaxis": {
            "gridcolor": "white",
            "linecolor": "white",
            "ticks": ""
           },
           "baxis": {
            "gridcolor": "white",
            "linecolor": "white",
            "ticks": ""
           },
           "caxis": {
            "gridcolor": "white",
            "linecolor": "white",
            "ticks": ""
           }
          },
          "coloraxis": {
           "colorbar": {
            "outlinewidth": 0,
            "ticks": ""
           }
          },
          "colorscale": {
           "sequential": [
            [
             0.0,
             "#0d0887"
            ],
            [
             0.1111111111111111,
             "#46039f"
            ],
            [
             0.2222222222222222,
             "#7201a8"
            ],
            [
             0.3333333333333333,
             "#9c179e"
            ],
            [
             0.4444444444444444,
             "#bd3786"
            ],
            [
             0.5555555555555556,
             "#d8576b"
            ],
            [
             0.6666666666666666,
             "#ed7953"
            ],
            [
             0.7777777777777778,
             "#fb9f3a"
            ],
            [
             0.8888888888888888,
             "#fdca26"
            ],
            [
             1.0,
             "#f0f921"
            ]
           ],
           "sequentialminus": [
            [
             0.0,
             "#0d0887"
            ],
            [
             0.1111111111111111,
             "#46039f"
            ],
            [
             0.2222222222222222,
             "#7201a8"
            ],
            [
             0.3333333333333333,
             "#9c179e"
            ],
            [
             0.4444444444444444,
             "#bd3786"
            ],
            [
             0.5555555555555556,
             "#d8576b"
            ],
            [
             0.6666666666666666,
             "#ed7953"
            ],
            [
             0.7777777777777778,
             "#fb9f3a"
            ],
            [
             0.8888888888888888,
             "#fdca26"
            ],
            [
             1.0,
             "#f0f921"
            ]
           ],
           "diverging": [
            [
             0,
             "#8e0152"
            ],
            [
             0.1,
             "#c51b7d"
            ],
            [
             0.2,
             "#de77ae"
            ],
            [
             0.3,
             "#f1b6da"
            ],
            [
             0.4,
             "#fde0ef"
            ],
            [
             0.5,
             "#f7f7f7"
            ],
            [
             0.6,
             "#e6f5d0"
            ],
            [
             0.7,
             "#b8e186"
            ],
            [
             0.8,
             "#7fbc41"
            ],
            [
             0.9,
             "#4d9221"
            ],
            [
             1,
             "#276419"
            ]
           ]
          },
          "xaxis": {
           "gridcolor": "white",
           "linecolor": "white",
           "ticks": "",
           "title": {
            "standoff": 15
           },
           "zerolinecolor": "white",
           "automargin": true,
           "zerolinewidth": 2
          },
          "yaxis": {
           "gridcolor": "white",
           "linecolor": "white",
           "ticks": "",
           "title": {
            "standoff": 15
           },
           "zerolinecolor": "white",
           "automargin": true,
           "zerolinewidth": 2
          },
          "scene": {
           "xaxis": {
            "backgroundcolor": "#E5ECF6",
            "gridcolor": "white",
            "linecolor": "white",
            "showbackground": true,
            "ticks": "",
            "zerolinecolor": "white",
            "gridwidth": 2
           },
           "yaxis": {
            "backgroundcolor": "#E5ECF6",
            "gridcolor": "white",
            "linecolor": "white",
            "showbackground": true,
            "ticks": "",
            "zerolinecolor": "white",
            "gridwidth": 2
           },
           "zaxis": {
            "backgroundcolor": "#E5ECF6",
            "gridcolor": "white",
            "linecolor": "white",
            "showbackground": true,
            "ticks": "",
            "zerolinecolor": "white",
            "gridwidth": 2
           }
          },
          "shapedefaults": {
           "line": {
            "color": "#2a3f5f"
           }
          },
          "annotationdefaults": {
           "arrowcolor": "#2a3f5f",
           "arrowhead": 0,
           "arrowwidth": 1
          },
          "geo": {
           "bgcolor": "white",
           "landcolor": "#E5ECF6",
           "subunitcolor": "white",
           "showland": true,
           "showlakes": true,
           "lakecolor": "white"
          },
          "title": {
           "x": 0.05
          },
          "mapbox": {
           "style": "light"
          }
         }
        },
        "xaxis": {
         "anchor": "y",
         "domain": [
          0.0,
          1.0
         ],
         "title": {
          "text": "Sun Altitude (deg)"
         }
        },
        "yaxis": {
         "anchor": "x",
         "domain": [
          0.0,
          1.0
         ],
         "title": {
          "text": "ADU/s"
         },
         "type": "log"
        },
        "legend": {
         "title": {
          "text": "filter"
         },
         "tracegroupgap": 0
        },
        "title": {
         "text": "ADU/s vs Sun Altitude (Morning, read-mod=5)"
        }
       },
       "config": {
        "plotlyServerURL": "https://plot.ly"
       }
      },
      "text/html": [
       "<div>                            <div id=\"35e2b7bb-0183-417d-96f0-9b99b37880ba\" class=\"plotly-graph-div\" style=\"height:525px; width:100%;\"></div>            <script type=\"text/javascript\">                require([\"plotly\"], function(Plotly) {                    window.PLOTLYENV=window.PLOTLYENV || {};                                    if (document.getElementById(\"35e2b7bb-0183-417d-96f0-9b99b37880ba\")) {                    Plotly.newPlot(                        \"35e2b7bb-0183-417d-96f0-9b99b37880ba\",                        [{\"customdata\":[[\"jk15c_0654_87510.fits\",1.0,5,2,\"2024-12-10T09:00:08.529993\"],[\"jk15c_0654_87585.fits\",1.0,5,2,\"2024-12-10T09:01:13.776489\"],[\"jk15c_0654_87662.fits\",1.0,5,2,\"2024-12-10T09:02:19.900246\"],[\"jk15c_0654_87737.fits\",1.0,5,2,\"2024-12-10T09:03:24.944115\"],[\"jk15c_0654_87813.fits\",1.0,5,2,\"2024-12-10T09:04:30.705286\"],[\"jk15c_0654_87889.fits\",1.0,5,2,\"2024-12-10T09:05:36.444912\"],[\"jk15c_0654_87965.fits\",1.0,5,2,\"2024-12-10T09:06:41.934765\"],[\"jk15c_0654_88041.fits\",1.0,5,2,\"2024-12-10T09:07:47.435103\"],[\"jk15c_0654_88117.fits\",1.0,5,2,\"2024-12-10T09:08:52.750776\"],[\"jk15c_0654_88193.fits\",1.0,5,2,\"2024-12-10T09:09:58.779245\"],[\"jk15c_0654_88269.fits\",1.0,5,2,\"2024-12-10T09:11:04.169761\"],[\"jk15c_0654_88345.fits\",1.0,5,2,\"2024-12-10T09:12:09.805130\"],[\"jk15c_0654_88420.fits\",1.0,5,2,\"2024-12-10T09:13:15.155398\"],[\"jk15c_0654_88496.fits\",1.0,5,2,\"2024-12-10T09:14:20.658458\"],[\"jk15c_0654_88671.fits\",1.0,5,2,\"2024-12-10T09:16:52.158131\"],[\"jk15c_0654_88749.fits\",1.0,5,2,\"2024-12-10T09:17:58.929167\"],[\"jk15c_0654_88826.fits\",1.0,5,2,\"2024-12-10T09:19:05.965199\"],[\"jk15c_0654_88903.fits\",1.0,5,2,\"2024-12-10T09:20:12.353562\"],[\"jk15c_0654_88981.fits\",1.0,5,2,\"2024-12-10T09:21:19.717407\"],[\"jk15c_0654_89059.fits\",1.0,5,2,\"2024-12-10T09:22:26.603727\"],[\"jk15c_0654_89136.fits\",1.0,5,2,\"2024-12-10T09:23:33.752313\"],[\"jk15c_0654_89212.fits\",1.0,5,2,\"2024-12-10T09:24:39.208047\"],[\"jk15c_0654_89288.fits\",1.0,5,2,\"2024-12-10T09:25:44.679620\"],[\"jk15c_0654_89364.fits\",1.0,5,2,\"2024-12-10T09:26:50.173328\"],[\"jk15c_0654_89440.fits\",1.0,5,2,\"2024-12-10T09:27:56.338872\"],[\"jk15c_0654_89516.fits\",1.0,5,2,\"2024-12-10T09:29:02.202039\"],[\"jk15c_0654_89592.fits\",1.0,5,2,\"2024-12-10T09:30:07.230976\"],[\"jk15c_0654_89668.fits\",1.0,5,2,\"2024-12-10T09:31:12.750465\"],[\"jk15c_0654_89744.fits\",1.0,5,2,\"2024-12-10T09:32:18.837352\"],[\"jk15c_0654_89820.fits\",1.0,5,2,\"2024-12-10T09:33:24.220835\"],[\"jk15c_0654_89896.fits\",1.0,5,2,\"2024-12-10T09:34:30.240909\"],[\"jk15c_0654_89972.fits\",1.0,5,2,\"2024-12-10T09:35:35.936223\"],[\"jk15c_0654_90048.fits\",1.0,5,2,\"2024-12-10T09:36:41.531072\"],[\"jk15c_0654_90124.fits\",1.0,5,2,\"2024-12-10T09:37:46.950811\"],[\"jk15c_0654_90299.fits\",1.0,5,2,\"2024-12-10T09:40:18.246997\"],[\"jk15c_0654_90377.fits\",1.0,5,2,\"2024-12-10T09:41:25.396053\"],[\"jk15c_0654_90454.fits\",1.0,5,2,\"2024-12-10T09:42:31.905594\"],[\"jk15c_0654_90530.fits\",1.0,5,2,\"2024-12-10T09:43:37.947466\"],[\"jk15c_0654_90607.fits\",1.0,5,2,\"2024-12-10T09:44:44.523250\"],[\"jk15c_0654_90685.fits\",1.0,5,2,\"2024-12-10T09:45:51.967764\"],[\"jk15c_0654_90762.fits\",1.0,5,2,\"2024-12-10T09:46:58.341267\"],[\"jk15c_0654_90840.fits\",1.0,5,2,\"2024-12-10T09:48:05.350165\"],[\"jk15c_0654_90915.fits\",1.0,5,2,\"2024-12-10T09:49:10.780966\"],[\"jk15c_0654_90993.fits\",1.0,5,2,\"2024-12-10T09:50:17.594639\"]],\"hovertemplate\":\"filter=y_s\\u003cbr\\u003eSun Altitude (deg)=%{x}\\u003cbr\\u003eADU\\u002fs=%{y}\\u003cbr\\u003efile=%{customdata[0]}\\u003cbr\\u003eexptime=%{customdata[1]}\\u003cbr\\u003eread-mod=%{customdata[2]}\\u003cbr\\u003egain-mod=%{customdata[3]}\\u003cbr\\u003edate-obs=%{customdata[4]}\\u003cextra\\u003e\\u003c\\u002fextra\\u003e\",\"legendgroup\":\"y_s\",\"line\":{\"color\":\"#636efa\",\"dash\":\"solid\"},\"marker\":{\"symbol\":\"circle\"},\"mode\":\"lines\",\"name\":\"y_s\",\"orientation\":\"v\",\"showlegend\":true,\"x\":[-9.793635104575962,-9.58155560949377,-9.366321576672588,-9.154307372270502,-8.939659849957913,-8.724788358904318,-8.510443068279615,-8.295776107683933,-8.08143051211743,-7.864459978490694,-7.649304896113486,-7.433065368981024,-7.217489856514716,-7.00113690943685,-6.49970538093555,-6.278253333511251,-6.05564612122346,-5.834919029774206,-5.61067567344045,-5.38775207526672,-5.163686126467561,-4.94501240227795,-4.726034388331252,-4.506732813845946,-4.2849302420591835,-4.0638923679308885,-3.84541245445048,-3.6250434331570784,-3.4025229247507798,-3.1821324930297665,-2.9593576503151495,-2.7374425303482006,-2.5156336324182798,-2.2941866707745016,-1.7811757609632857,-1.5531035203666053,-1.3269726821233772,-1.1022065265473697,-0.8753977527388627,-0.6454003865554963,-0.41883210253771075,-0.18987201947420923,0.033910286074012,0.2626390406266488],\"xaxis\":\"x\",\"y\":[1117.9259052420518,1117.8846469066027,1118.7315871062012,1117.4637734836178,1118.0684402620068,1117.6543294422959,1118.27671202081,1118.1250706467788,1118.4624467048584,1117.547079723517,1118.5126753208367,1117.8522770041275,1118.0308524442428,1118.36399115463,1118.4260768586093,1118.3223007431434,1117.656426834726,1118.300285634378,1118.0672525542236,1118.5879148041981,1117.8021082949438,1118.6526534984605,1118.5969012716214,1118.341137309053,1118.9256005590855,1117.634073477274,1117.7490211019672,1118.055679451072,1118.0534116593083,1118.2027438513485,1118.711706994212,1118.6549422817159,1118.6370901517355,1118.1591483071936,1118.0012106555312,1118.39214276416,1118.0578788282126,1117.8964425782915,1118.5591694010698,1118.2411330538816,1118.2170214962616,1117.9223867142334,1118.4774253324065,1118.0587500932868],\"yaxis\":\"y\",\"type\":\"scatter\"}],                        {\"template\":{\"data\":{\"histogram2dcontour\":[{\"type\":\"histogram2dcontour\",\"colorbar\":{\"outlinewidth\":0,\"ticks\":\"\"},\"colorscale\":[[0.0,\"#0d0887\"],[0.1111111111111111,\"#46039f\"],[0.2222222222222222,\"#7201a8\"],[0.3333333333333333,\"#9c179e\"],[0.4444444444444444,\"#bd3786\"],[0.5555555555555556,\"#d8576b\"],[0.6666666666666666,\"#ed7953\"],[0.7777777777777778,\"#fb9f3a\"],[0.8888888888888888,\"#fdca26\"],[1.0,\"#f0f921\"]]}],\"choropleth\":[{\"type\":\"choropleth\",\"colorbar\":{\"outlinewidth\":0,\"ticks\":\"\"}}],\"histogram2d\":[{\"type\":\"histogram2d\",\"colorbar\":{\"outlinewidth\":0,\"ticks\":\"\"},\"colorscale\":[[0.0,\"#0d0887\"],[0.1111111111111111,\"#46039f\"],[0.2222222222222222,\"#7201a8\"],[0.3333333333333333,\"#9c179e\"],[0.4444444444444444,\"#bd3786\"],[0.5555555555555556,\"#d8576b\"],[0.6666666666666666,\"#ed7953\"],[0.7777777777777778,\"#fb9f3a\"],[0.8888888888888888,\"#fdca26\"],[1.0,\"#f0f921\"]]}],\"heatmap\":[{\"type\":\"heatmap\",\"colorbar\":{\"outlinewidth\":0,\"ticks\":\"\"},\"colorscale\":[[0.0,\"#0d0887\"],[0.1111111111111111,\"#46039f\"],[0.2222222222222222,\"#7201a8\"],[0.3333333333333333,\"#9c179e\"],[0.4444444444444444,\"#bd3786\"],[0.5555555555555556,\"#d8576b\"],[0.6666666666666666,\"#ed7953\"],[0.7777777777777778,\"#fb9f3a\"],[0.8888888888888888,\"#fdca26\"],[1.0,\"#f0f921\"]]}],\"heatmapgl\":[{\"type\":\"heatmapgl\",\"colorbar\":{\"outlinewidth\":0,\"ticks\":\"\"},\"colorscale\":[[0.0,\"#0d0887\"],[0.1111111111111111,\"#46039f\"],[0.2222222222222222,\"#7201a8\"],[0.3333333333333333,\"#9c179e\"],[0.4444444444444444,\"#bd3786\"],[0.5555555555555556,\"#d8576b\"],[0.6666666666666666,\"#ed7953\"],[0.7777777777777778,\"#fb9f3a\"],[0.8888888888888888,\"#fdca26\"],[1.0,\"#f0f921\"]]}],\"contourcarpet\":[{\"type\":\"contourcarpet\",\"colorbar\":{\"outlinewidth\":0,\"ticks\":\"\"}}],\"contour\":[{\"type\":\"contour\",\"colorbar\":{\"outlinewidth\":0,\"ticks\":\"\"},\"colorscale\":[[0.0,\"#0d0887\"],[0.1111111111111111,\"#46039f\"],[0.2222222222222222,\"#7201a8\"],[0.3333333333333333,\"#9c179e\"],[0.4444444444444444,\"#bd3786\"],[0.5555555555555556,\"#d8576b\"],[0.6666666666666666,\"#ed7953\"],[0.7777777777777778,\"#fb9f3a\"],[0.8888888888888888,\"#fdca26\"],[1.0,\"#f0f921\"]]}],\"surface\":[{\"type\":\"surface\",\"colorbar\":{\"outlinewidth\":0,\"ticks\":\"\"},\"colorscale\":[[0.0,\"#0d0887\"],[0.1111111111111111,\"#46039f\"],[0.2222222222222222,\"#7201a8\"],[0.3333333333333333,\"#9c179e\"],[0.4444444444444444,\"#bd3786\"],[0.5555555555555556,\"#d8576b\"],[0.6666666666666666,\"#ed7953\"],[0.7777777777777778,\"#fb9f3a\"],[0.8888888888888888,\"#fdca26\"],[1.0,\"#f0f921\"]]}],\"mesh3d\":[{\"type\":\"mesh3d\",\"colorbar\":{\"outlinewidth\":0,\"ticks\":\"\"}}],\"scatter\":[{\"fillpattern\":{\"fillmode\":\"overlay\",\"size\":10,\"solidity\":0.2},\"type\":\"scatter\"}],\"parcoords\":[{\"type\":\"parcoords\",\"line\":{\"colorbar\":{\"outlinewidth\":0,\"ticks\":\"\"}}}],\"scatterpolargl\":[{\"type\":\"scatterpolargl\",\"marker\":{\"colorbar\":{\"outlinewidth\":0,\"ticks\":\"\"}}}],\"bar\":[{\"error_x\":{\"color\":\"#2a3f5f\"},\"error_y\":{\"color\":\"#2a3f5f\"},\"marker\":{\"line\":{\"color\":\"#E5ECF6\",\"width\":0.5},\"pattern\":{\"fillmode\":\"overlay\",\"size\":10,\"solidity\":0.2}},\"type\":\"bar\"}],\"scattergeo\":[{\"type\":\"scattergeo\",\"marker\":{\"colorbar\":{\"outlinewidth\":0,\"ticks\":\"\"}}}],\"scatterpolar\":[{\"type\":\"scatterpolar\",\"marker\":{\"colorbar\":{\"outlinewidth\":0,\"ticks\":\"\"}}}],\"histogram\":[{\"marker\":{\"pattern\":{\"fillmode\":\"overlay\",\"size\":10,\"solidity\":0.2}},\"type\":\"histogram\"}],\"scattergl\":[{\"type\":\"scattergl\",\"marker\":{\"colorbar\":{\"outlinewidth\":0,\"ticks\":\"\"}}}],\"scatter3d\":[{\"type\":\"scatter3d\",\"line\":{\"colorbar\":{\"outlinewidth\":0,\"ticks\":\"\"}},\"marker\":{\"colorbar\":{\"outlinewidth\":0,\"ticks\":\"\"}}}],\"scattermapbox\":[{\"type\":\"scattermapbox\",\"marker\":{\"colorbar\":{\"outlinewidth\":0,\"ticks\":\"\"}}}],\"scatterternary\":[{\"type\":\"scatterternary\",\"marker\":{\"colorbar\":{\"outlinewidth\":0,\"ticks\":\"\"}}}],\"scattercarpet\":[{\"type\":\"scattercarpet\",\"marker\":{\"colorbar\":{\"outlinewidth\":0,\"ticks\":\"\"}}}],\"carpet\":[{\"aaxis\":{\"endlinecolor\":\"#2a3f5f\",\"gridcolor\":\"white\",\"linecolor\":\"white\",\"minorgridcolor\":\"white\",\"startlinecolor\":\"#2a3f5f\"},\"baxis\":{\"endlinecolor\":\"#2a3f5f\",\"gridcolor\":\"white\",\"linecolor\":\"white\",\"minorgridcolor\":\"white\",\"startlinecolor\":\"#2a3f5f\"},\"type\":\"carpet\"}],\"table\":[{\"cells\":{\"fill\":{\"color\":\"#EBF0F8\"},\"line\":{\"color\":\"white\"}},\"header\":{\"fill\":{\"color\":\"#C8D4E3\"},\"line\":{\"color\":\"white\"}},\"type\":\"table\"}],\"barpolar\":[{\"marker\":{\"line\":{\"color\":\"#E5ECF6\",\"width\":0.5},\"pattern\":{\"fillmode\":\"overlay\",\"size\":10,\"solidity\":0.2}},\"type\":\"barpolar\"}],\"pie\":[{\"automargin\":true,\"type\":\"pie\"}]},\"layout\":{\"autotypenumbers\":\"strict\",\"colorway\":[\"#636efa\",\"#EF553B\",\"#00cc96\",\"#ab63fa\",\"#FFA15A\",\"#19d3f3\",\"#FF6692\",\"#B6E880\",\"#FF97FF\",\"#FECB52\"],\"font\":{\"color\":\"#2a3f5f\"},\"hovermode\":\"closest\",\"hoverlabel\":{\"align\":\"left\"},\"paper_bgcolor\":\"white\",\"plot_bgcolor\":\"#E5ECF6\",\"polar\":{\"bgcolor\":\"#E5ECF6\",\"angularaxis\":{\"gridcolor\":\"white\",\"linecolor\":\"white\",\"ticks\":\"\"},\"radialaxis\":{\"gridcolor\":\"white\",\"linecolor\":\"white\",\"ticks\":\"\"}},\"ternary\":{\"bgcolor\":\"#E5ECF6\",\"aaxis\":{\"gridcolor\":\"white\",\"linecolor\":\"white\",\"ticks\":\"\"},\"baxis\":{\"gridcolor\":\"white\",\"linecolor\":\"white\",\"ticks\":\"\"},\"caxis\":{\"gridcolor\":\"white\",\"linecolor\":\"white\",\"ticks\":\"\"}},\"coloraxis\":{\"colorbar\":{\"outlinewidth\":0,\"ticks\":\"\"}},\"colorscale\":{\"sequential\":[[0.0,\"#0d0887\"],[0.1111111111111111,\"#46039f\"],[0.2222222222222222,\"#7201a8\"],[0.3333333333333333,\"#9c179e\"],[0.4444444444444444,\"#bd3786\"],[0.5555555555555556,\"#d8576b\"],[0.6666666666666666,\"#ed7953\"],[0.7777777777777778,\"#fb9f3a\"],[0.8888888888888888,\"#fdca26\"],[1.0,\"#f0f921\"]],\"sequentialminus\":[[0.0,\"#0d0887\"],[0.1111111111111111,\"#46039f\"],[0.2222222222222222,\"#7201a8\"],[0.3333333333333333,\"#9c179e\"],[0.4444444444444444,\"#bd3786\"],[0.5555555555555556,\"#d8576b\"],[0.6666666666666666,\"#ed7953\"],[0.7777777777777778,\"#fb9f3a\"],[0.8888888888888888,\"#fdca26\"],[1.0,\"#f0f921\"]],\"diverging\":[[0,\"#8e0152\"],[0.1,\"#c51b7d\"],[0.2,\"#de77ae\"],[0.3,\"#f1b6da\"],[0.4,\"#fde0ef\"],[0.5,\"#f7f7f7\"],[0.6,\"#e6f5d0\"],[0.7,\"#b8e186\"],[0.8,\"#7fbc41\"],[0.9,\"#4d9221\"],[1,\"#276419\"]]},\"xaxis\":{\"gridcolor\":\"white\",\"linecolor\":\"white\",\"ticks\":\"\",\"title\":{\"standoff\":15},\"zerolinecolor\":\"white\",\"automargin\":true,\"zerolinewidth\":2},\"yaxis\":{\"gridcolor\":\"white\",\"linecolor\":\"white\",\"ticks\":\"\",\"title\":{\"standoff\":15},\"zerolinecolor\":\"white\",\"automargin\":true,\"zerolinewidth\":2},\"scene\":{\"xaxis\":{\"backgroundcolor\":\"#E5ECF6\",\"gridcolor\":\"white\",\"linecolor\":\"white\",\"showbackground\":true,\"ticks\":\"\",\"zerolinecolor\":\"white\",\"gridwidth\":2},\"yaxis\":{\"backgroundcolor\":\"#E5ECF6\",\"gridcolor\":\"white\",\"linecolor\":\"white\",\"showbackground\":true,\"ticks\":\"\",\"zerolinecolor\":\"white\",\"gridwidth\":2},\"zaxis\":{\"backgroundcolor\":\"#E5ECF6\",\"gridcolor\":\"white\",\"linecolor\":\"white\",\"showbackground\":true,\"ticks\":\"\",\"zerolinecolor\":\"white\",\"gridwidth\":2}},\"shapedefaults\":{\"line\":{\"color\":\"#2a3f5f\"}},\"annotationdefaults\":{\"arrowcolor\":\"#2a3f5f\",\"arrowhead\":0,\"arrowwidth\":1},\"geo\":{\"bgcolor\":\"white\",\"landcolor\":\"#E5ECF6\",\"subunitcolor\":\"white\",\"showland\":true,\"showlakes\":true,\"lakecolor\":\"white\"},\"title\":{\"x\":0.05},\"mapbox\":{\"style\":\"light\"}}},\"xaxis\":{\"anchor\":\"y\",\"domain\":[0.0,1.0],\"title\":{\"text\":\"Sun Altitude (deg)\"}},\"yaxis\":{\"anchor\":\"x\",\"domain\":[0.0,1.0],\"title\":{\"text\":\"ADU\\u002fs\"},\"type\":\"log\"},\"legend\":{\"title\":{\"text\":\"filter\"},\"tracegroupgap\":0},\"title\":{\"text\":\"ADU\\u002fs vs Sun Altitude (Morning, read-mod=5)\"}},                        {\"responsive\": true}                    ).then(function(){\n",
       "                            \n",
       "var gd = document.getElementById('35e2b7bb-0183-417d-96f0-9b99b37880ba');\n",
       "var x = new MutationObserver(function (mutations, observer) {{\n",
       "        var display = window.getComputedStyle(gd).display;\n",
       "        if (!display || display === 'none') {{\n",
       "            console.log([gd, 'removed!']);\n",
       "            Plotly.purge(gd);\n",
       "            observer.disconnect();\n",
       "        }}\n",
       "}});\n",
       "\n",
       "// Listen for the removal of the full notebook cells\n",
       "var notebookContainer = gd.closest('#notebook-container');\n",
       "if (notebookContainer) {{\n",
       "    x.observe(notebookContainer, {childList: true});\n",
       "}}\n",
       "\n",
       "// Listen for the clearing of the current output cell\n",
       "var outputEl = gd.closest('.output');\n",
       "if (outputEl) {{\n",
       "    x.observe(outputEl, {childList: true});\n",
       "}}\n",
       "\n",
       "                        })                };                });            </script>        </div>"
      ]
     },
     "metadata": {},
     "output_type": "display_data"
    },
    {
     "data": {
      "application/vnd.plotly.v1+json": {
       "data": [
        {
         "customdata": [
          [
           "jk15c_0651_50306.fits",
           69.57691181545914,
           5,
           2,
           "2024-12-07T00:04:23.961352"
          ],
          [
           "jk15c_0651_50182.fits",
           40.573673602208686,
           5,
           2,
           "2024-12-07T00:02:37.401695"
          ],
          [
           "jk15c_0651_50068.fits",
           29.576973437478816,
           5,
           2,
           "2024-12-07T00:00:58.992719"
          ],
          [
           "jk15c_0651_49963.fits",
           25.1410735869528,
           5,
           2,
           "2024-12-06T23:59:28.001041"
          ],
          [
           "jk15c_0651_49865.fits",
           18.435161715828293,
           5,
           2,
           "2024-12-06T23:58:03.142059"
          ],
          [
           "jk15c_0651_49765.fits",
           13.46563547410467,
           5,
           2,
           "2024-12-06T23:56:36.914986"
          ],
          [
           "jk15c_0651_49666.fits",
           8.270035585950076,
           5,
           2,
           "2024-12-06T23:55:11.412928"
          ]
         ],
         "hovertemplate": "filter=r<br>Sun Altitude (deg)=%{x}<br>ADU/s=%{y}<br>file=%{customdata[0]}<br>exptime=%{customdata[1]}<br>read-mod=%{customdata[2]}<br>gain-mod=%{customdata[3]}<br>date-obs=%{customdata[4]}<extra></extra>",
         "legendgroup": "r",
         "line": {
          "color": "#636efa",
          "dash": "solid"
         },
         "marker": {
          "symbol": "circle"
         },
         "mode": "lines",
         "name": "r",
         "orientation": "v",
         "showlegend": true,
         "x": [
          -9.687571718655219,
          -9.339515667601603,
          -9.017392721937,
          -8.718967015029651,
          -8.44015662638806,
          -8.156364192167525,
          -7.874478280627543
         ],
         "xaxis": "x",
         "y": [
          324.59784078817745,
          478.3004172051837,
          663.3753547199042,
          882.9397463902824,
          1168.1458913349438,
          1545.9425540549898,
          2035.998906324135
         ],
         "yaxis": "y",
         "type": "scatter"
        },
        {
         "customdata": [
          [
           "jk15c_0651_49480.fits",
           17.430793629588095,
           5,
           2,
           "2024-12-06T23:52:30.454892"
          ],
          [
           "jk15c_0651_49386.fits",
           13.313539558059448,
           5,
           2,
           "2024-12-06T23:51:09.566927"
          ],
          [
           "jk15c_0651_49298.fits",
           10.438992002060987,
           5,
           2,
           "2024-12-06T23:49:53.344089"
          ],
          [
           "jk15c_0651_49212.fits",
           6.030780765864127,
           5,
           2,
           "2024-12-06T23:48:39.174073"
          ],
          [
           "jk15c_0651_49128.fits",
           5.37160544524121,
           5,
           2,
           "2024-12-06T23:47:26.479075"
          ],
          [
           "jk15c_0651_49039.fits",
           9.615929154027805,
           5,
           2,
           "2024-12-06T23:46:10.061991"
          ],
          [
           "jk15c_0651_48950.fits",
           5.989373628991997,
           5,
           2,
           "2024-12-06T23:44:53.220669"
          ]
         ],
         "hovertemplate": "filter=z<br>Sun Altitude (deg)=%{x}<br>ADU/s=%{y}<br>file=%{customdata[0]}<br>exptime=%{customdata[1]}<br>read-mod=%{customdata[2]}<br>gain-mod=%{customdata[3]}<br>date-obs=%{customdata[4]}<extra></extra>",
         "legendgroup": "z",
         "line": {
          "color": "#EF553B",
          "dash": "solid"
         },
         "marker": {
          "symbol": "circle"
         },
         "mode": "lines",
         "name": "z",
         "orientation": "v",
         "showlegend": true,
         "x": [
          -7.3425485310067335,
          -7.074610363110241,
          -6.821749567241053,
          -6.575352179397091,
          -6.333526191951678,
          -6.078970769182814,
          -5.822646224078689
         ],
         "xaxis": "x",
         "y": [
          1379.2079968871572,
          1793.2486121460854,
          2323.275112352402,
          3078.8065531694247,
          4022.302670279248,
          5243.893224389417,
          5721.1570732467535
         ],
         "yaxis": "y",
         "type": "scatter"
        }
       ],
       "layout": {
        "template": {
         "data": {
          "histogram2dcontour": [
           {
            "type": "histogram2dcontour",
            "colorbar": {
             "outlinewidth": 0,
             "ticks": ""
            },
            "colorscale": [
             [
              0.0,
              "#0d0887"
             ],
             [
              0.1111111111111111,
              "#46039f"
             ],
             [
              0.2222222222222222,
              "#7201a8"
             ],
             [
              0.3333333333333333,
              "#9c179e"
             ],
             [
              0.4444444444444444,
              "#bd3786"
             ],
             [
              0.5555555555555556,
              "#d8576b"
             ],
             [
              0.6666666666666666,
              "#ed7953"
             ],
             [
              0.7777777777777778,
              "#fb9f3a"
             ],
             [
              0.8888888888888888,
              "#fdca26"
             ],
             [
              1.0,
              "#f0f921"
             ]
            ]
           }
          ],
          "choropleth": [
           {
            "type": "choropleth",
            "colorbar": {
             "outlinewidth": 0,
             "ticks": ""
            }
           }
          ],
          "histogram2d": [
           {
            "type": "histogram2d",
            "colorbar": {
             "outlinewidth": 0,
             "ticks": ""
            },
            "colorscale": [
             [
              0.0,
              "#0d0887"
             ],
             [
              0.1111111111111111,
              "#46039f"
             ],
             [
              0.2222222222222222,
              "#7201a8"
             ],
             [
              0.3333333333333333,
              "#9c179e"
             ],
             [
              0.4444444444444444,
              "#bd3786"
             ],
             [
              0.5555555555555556,
              "#d8576b"
             ],
             [
              0.6666666666666666,
              "#ed7953"
             ],
             [
              0.7777777777777778,
              "#fb9f3a"
             ],
             [
              0.8888888888888888,
              "#fdca26"
             ],
             [
              1.0,
              "#f0f921"
             ]
            ]
           }
          ],
          "heatmap": [
           {
            "type": "heatmap",
            "colorbar": {
             "outlinewidth": 0,
             "ticks": ""
            },
            "colorscale": [
             [
              0.0,
              "#0d0887"
             ],
             [
              0.1111111111111111,
              "#46039f"
             ],
             [
              0.2222222222222222,
              "#7201a8"
             ],
             [
              0.3333333333333333,
              "#9c179e"
             ],
             [
              0.4444444444444444,
              "#bd3786"
             ],
             [
              0.5555555555555556,
              "#d8576b"
             ],
             [
              0.6666666666666666,
              "#ed7953"
             ],
             [
              0.7777777777777778,
              "#fb9f3a"
             ],
             [
              0.8888888888888888,
              "#fdca26"
             ],
             [
              1.0,
              "#f0f921"
             ]
            ]
           }
          ],
          "heatmapgl": [
           {
            "type": "heatmapgl",
            "colorbar": {
             "outlinewidth": 0,
             "ticks": ""
            },
            "colorscale": [
             [
              0.0,
              "#0d0887"
             ],
             [
              0.1111111111111111,
              "#46039f"
             ],
             [
              0.2222222222222222,
              "#7201a8"
             ],
             [
              0.3333333333333333,
              "#9c179e"
             ],
             [
              0.4444444444444444,
              "#bd3786"
             ],
             [
              0.5555555555555556,
              "#d8576b"
             ],
             [
              0.6666666666666666,
              "#ed7953"
             ],
             [
              0.7777777777777778,
              "#fb9f3a"
             ],
             [
              0.8888888888888888,
              "#fdca26"
             ],
             [
              1.0,
              "#f0f921"
             ]
            ]
           }
          ],
          "contourcarpet": [
           {
            "type": "contourcarpet",
            "colorbar": {
             "outlinewidth": 0,
             "ticks": ""
            }
           }
          ],
          "contour": [
           {
            "type": "contour",
            "colorbar": {
             "outlinewidth": 0,
             "ticks": ""
            },
            "colorscale": [
             [
              0.0,
              "#0d0887"
             ],
             [
              0.1111111111111111,
              "#46039f"
             ],
             [
              0.2222222222222222,
              "#7201a8"
             ],
             [
              0.3333333333333333,
              "#9c179e"
             ],
             [
              0.4444444444444444,
              "#bd3786"
             ],
             [
              0.5555555555555556,
              "#d8576b"
             ],
             [
              0.6666666666666666,
              "#ed7953"
             ],
             [
              0.7777777777777778,
              "#fb9f3a"
             ],
             [
              0.8888888888888888,
              "#fdca26"
             ],
             [
              1.0,
              "#f0f921"
             ]
            ]
           }
          ],
          "surface": [
           {
            "type": "surface",
            "colorbar": {
             "outlinewidth": 0,
             "ticks": ""
            },
            "colorscale": [
             [
              0.0,
              "#0d0887"
             ],
             [
              0.1111111111111111,
              "#46039f"
             ],
             [
              0.2222222222222222,
              "#7201a8"
             ],
             [
              0.3333333333333333,
              "#9c179e"
             ],
             [
              0.4444444444444444,
              "#bd3786"
             ],
             [
              0.5555555555555556,
              "#d8576b"
             ],
             [
              0.6666666666666666,
              "#ed7953"
             ],
             [
              0.7777777777777778,
              "#fb9f3a"
             ],
             [
              0.8888888888888888,
              "#fdca26"
             ],
             [
              1.0,
              "#f0f921"
             ]
            ]
           }
          ],
          "mesh3d": [
           {
            "type": "mesh3d",
            "colorbar": {
             "outlinewidth": 0,
             "ticks": ""
            }
           }
          ],
          "scatter": [
           {
            "fillpattern": {
             "fillmode": "overlay",
             "size": 10,
             "solidity": 0.2
            },
            "type": "scatter"
           }
          ],
          "parcoords": [
           {
            "type": "parcoords",
            "line": {
             "colorbar": {
              "outlinewidth": 0,
              "ticks": ""
             }
            }
           }
          ],
          "scatterpolargl": [
           {
            "type": "scatterpolargl",
            "marker": {
             "colorbar": {
              "outlinewidth": 0,
              "ticks": ""
             }
            }
           }
          ],
          "bar": [
           {
            "error_x": {
             "color": "#2a3f5f"
            },
            "error_y": {
             "color": "#2a3f5f"
            },
            "marker": {
             "line": {
              "color": "#E5ECF6",
              "width": 0.5
             },
             "pattern": {
              "fillmode": "overlay",
              "size": 10,
              "solidity": 0.2
             }
            },
            "type": "bar"
           }
          ],
          "scattergeo": [
           {
            "type": "scattergeo",
            "marker": {
             "colorbar": {
              "outlinewidth": 0,
              "ticks": ""
             }
            }
           }
          ],
          "scatterpolar": [
           {
            "type": "scatterpolar",
            "marker": {
             "colorbar": {
              "outlinewidth": 0,
              "ticks": ""
             }
            }
           }
          ],
          "histogram": [
           {
            "marker": {
             "pattern": {
              "fillmode": "overlay",
              "size": 10,
              "solidity": 0.2
             }
            },
            "type": "histogram"
           }
          ],
          "scattergl": [
           {
            "type": "scattergl",
            "marker": {
             "colorbar": {
              "outlinewidth": 0,
              "ticks": ""
             }
            }
           }
          ],
          "scatter3d": [
           {
            "type": "scatter3d",
            "line": {
             "colorbar": {
              "outlinewidth": 0,
              "ticks": ""
             }
            },
            "marker": {
             "colorbar": {
              "outlinewidth": 0,
              "ticks": ""
             }
            }
           }
          ],
          "scattermapbox": [
           {
            "type": "scattermapbox",
            "marker": {
             "colorbar": {
              "outlinewidth": 0,
              "ticks": ""
             }
            }
           }
          ],
          "scatterternary": [
           {
            "type": "scatterternary",
            "marker": {
             "colorbar": {
              "outlinewidth": 0,
              "ticks": ""
             }
            }
           }
          ],
          "scattercarpet": [
           {
            "type": "scattercarpet",
            "marker": {
             "colorbar": {
              "outlinewidth": 0,
              "ticks": ""
             }
            }
           }
          ],
          "carpet": [
           {
            "aaxis": {
             "endlinecolor": "#2a3f5f",
             "gridcolor": "white",
             "linecolor": "white",
             "minorgridcolor": "white",
             "startlinecolor": "#2a3f5f"
            },
            "baxis": {
             "endlinecolor": "#2a3f5f",
             "gridcolor": "white",
             "linecolor": "white",
             "minorgridcolor": "white",
             "startlinecolor": "#2a3f5f"
            },
            "type": "carpet"
           }
          ],
          "table": [
           {
            "cells": {
             "fill": {
              "color": "#EBF0F8"
             },
             "line": {
              "color": "white"
             }
            },
            "header": {
             "fill": {
              "color": "#C8D4E3"
             },
             "line": {
              "color": "white"
             }
            },
            "type": "table"
           }
          ],
          "barpolar": [
           {
            "marker": {
             "line": {
              "color": "#E5ECF6",
              "width": 0.5
             },
             "pattern": {
              "fillmode": "overlay",
              "size": 10,
              "solidity": 0.2
             }
            },
            "type": "barpolar"
           }
          ],
          "pie": [
           {
            "automargin": true,
            "type": "pie"
           }
          ]
         },
         "layout": {
          "autotypenumbers": "strict",
          "colorway": [
           "#636efa",
           "#EF553B",
           "#00cc96",
           "#ab63fa",
           "#FFA15A",
           "#19d3f3",
           "#FF6692",
           "#B6E880",
           "#FF97FF",
           "#FECB52"
          ],
          "font": {
           "color": "#2a3f5f"
          },
          "hovermode": "closest",
          "hoverlabel": {
           "align": "left"
          },
          "paper_bgcolor": "white",
          "plot_bgcolor": "#E5ECF6",
          "polar": {
           "bgcolor": "#E5ECF6",
           "angularaxis": {
            "gridcolor": "white",
            "linecolor": "white",
            "ticks": ""
           },
           "radialaxis": {
            "gridcolor": "white",
            "linecolor": "white",
            "ticks": ""
           }
          },
          "ternary": {
           "bgcolor": "#E5ECF6",
           "aaxis": {
            "gridcolor": "white",
            "linecolor": "white",
            "ticks": ""
           },
           "baxis": {
            "gridcolor": "white",
            "linecolor": "white",
            "ticks": ""
           },
           "caxis": {
            "gridcolor": "white",
            "linecolor": "white",
            "ticks": ""
           }
          },
          "coloraxis": {
           "colorbar": {
            "outlinewidth": 0,
            "ticks": ""
           }
          },
          "colorscale": {
           "sequential": [
            [
             0.0,
             "#0d0887"
            ],
            [
             0.1111111111111111,
             "#46039f"
            ],
            [
             0.2222222222222222,
             "#7201a8"
            ],
            [
             0.3333333333333333,
             "#9c179e"
            ],
            [
             0.4444444444444444,
             "#bd3786"
            ],
            [
             0.5555555555555556,
             "#d8576b"
            ],
            [
             0.6666666666666666,
             "#ed7953"
            ],
            [
             0.7777777777777778,
             "#fb9f3a"
            ],
            [
             0.8888888888888888,
             "#fdca26"
            ],
            [
             1.0,
             "#f0f921"
            ]
           ],
           "sequentialminus": [
            [
             0.0,
             "#0d0887"
            ],
            [
             0.1111111111111111,
             "#46039f"
            ],
            [
             0.2222222222222222,
             "#7201a8"
            ],
            [
             0.3333333333333333,
             "#9c179e"
            ],
            [
             0.4444444444444444,
             "#bd3786"
            ],
            [
             0.5555555555555556,
             "#d8576b"
            ],
            [
             0.6666666666666666,
             "#ed7953"
            ],
            [
             0.7777777777777778,
             "#fb9f3a"
            ],
            [
             0.8888888888888888,
             "#fdca26"
            ],
            [
             1.0,
             "#f0f921"
            ]
           ],
           "diverging": [
            [
             0,
             "#8e0152"
            ],
            [
             0.1,
             "#c51b7d"
            ],
            [
             0.2,
             "#de77ae"
            ],
            [
             0.3,
             "#f1b6da"
            ],
            [
             0.4,
             "#fde0ef"
            ],
            [
             0.5,
             "#f7f7f7"
            ],
            [
             0.6,
             "#e6f5d0"
            ],
            [
             0.7,
             "#b8e186"
            ],
            [
             0.8,
             "#7fbc41"
            ],
            [
             0.9,
             "#4d9221"
            ],
            [
             1,
             "#276419"
            ]
           ]
          },
          "xaxis": {
           "gridcolor": "white",
           "linecolor": "white",
           "ticks": "",
           "title": {
            "standoff": 15
           },
           "zerolinecolor": "white",
           "automargin": true,
           "zerolinewidth": 2
          },
          "yaxis": {
           "gridcolor": "white",
           "linecolor": "white",
           "ticks": "",
           "title": {
            "standoff": 15
           },
           "zerolinecolor": "white",
           "automargin": true,
           "zerolinewidth": 2
          },
          "scene": {
           "xaxis": {
            "backgroundcolor": "#E5ECF6",
            "gridcolor": "white",
            "linecolor": "white",
            "showbackground": true,
            "ticks": "",
            "zerolinecolor": "white",
            "gridwidth": 2
           },
           "yaxis": {
            "backgroundcolor": "#E5ECF6",
            "gridcolor": "white",
            "linecolor": "white",
            "showbackground": true,
            "ticks": "",
            "zerolinecolor": "white",
            "gridwidth": 2
           },
           "zaxis": {
            "backgroundcolor": "#E5ECF6",
            "gridcolor": "white",
            "linecolor": "white",
            "showbackground": true,
            "ticks": "",
            "zerolinecolor": "white",
            "gridwidth": 2
           }
          },
          "shapedefaults": {
           "line": {
            "color": "#2a3f5f"
           }
          },
          "annotationdefaults": {
           "arrowcolor": "#2a3f5f",
           "arrowhead": 0,
           "arrowwidth": 1
          },
          "geo": {
           "bgcolor": "white",
           "landcolor": "#E5ECF6",
           "subunitcolor": "white",
           "showland": true,
           "showlakes": true,
           "lakecolor": "white"
          },
          "title": {
           "x": 0.05
          },
          "mapbox": {
           "style": "light"
          }
         }
        },
        "xaxis": {
         "anchor": "y",
         "domain": [
          0.0,
          1.0
         ],
         "title": {
          "text": "Sun Altitude (deg)"
         }
        },
        "yaxis": {
         "anchor": "x",
         "domain": [
          0.0,
          1.0
         ],
         "title": {
          "text": "ADU/s"
         },
         "type": "log"
        },
        "legend": {
         "title": {
          "text": "filter"
         },
         "tracegroupgap": 0
        },
        "title": {
         "text": "ADU/s vs Sun Altitude (Evening, read-mod=5)"
        }
       },
       "config": {
        "plotlyServerURL": "https://plot.ly"
       }
      },
      "text/html": [
       "<div>                            <div id=\"6d7abaf1-3ace-41d3-8aa2-b6e004c82357\" class=\"plotly-graph-div\" style=\"height:525px; width:100%;\"></div>            <script type=\"text/javascript\">                require([\"plotly\"], function(Plotly) {                    window.PLOTLYENV=window.PLOTLYENV || {};                                    if (document.getElementById(\"6d7abaf1-3ace-41d3-8aa2-b6e004c82357\")) {                    Plotly.newPlot(                        \"6d7abaf1-3ace-41d3-8aa2-b6e004c82357\",                        [{\"customdata\":[[\"jk15c_0651_50306.fits\",69.57691181545914,5,2,\"2024-12-07T00:04:23.961352\"],[\"jk15c_0651_50182.fits\",40.573673602208686,5,2,\"2024-12-07T00:02:37.401695\"],[\"jk15c_0651_50068.fits\",29.576973437478816,5,2,\"2024-12-07T00:00:58.992719\"],[\"jk15c_0651_49963.fits\",25.1410735869528,5,2,\"2024-12-06T23:59:28.001041\"],[\"jk15c_0651_49865.fits\",18.435161715828293,5,2,\"2024-12-06T23:58:03.142059\"],[\"jk15c_0651_49765.fits\",13.46563547410467,5,2,\"2024-12-06T23:56:36.914986\"],[\"jk15c_0651_49666.fits\",8.270035585950076,5,2,\"2024-12-06T23:55:11.412928\"]],\"hovertemplate\":\"filter=r\\u003cbr\\u003eSun Altitude (deg)=%{x}\\u003cbr\\u003eADU\\u002fs=%{y}\\u003cbr\\u003efile=%{customdata[0]}\\u003cbr\\u003eexptime=%{customdata[1]}\\u003cbr\\u003eread-mod=%{customdata[2]}\\u003cbr\\u003egain-mod=%{customdata[3]}\\u003cbr\\u003edate-obs=%{customdata[4]}\\u003cextra\\u003e\\u003c\\u002fextra\\u003e\",\"legendgroup\":\"r\",\"line\":{\"color\":\"#636efa\",\"dash\":\"solid\"},\"marker\":{\"symbol\":\"circle\"},\"mode\":\"lines\",\"name\":\"r\",\"orientation\":\"v\",\"showlegend\":true,\"x\":[-9.687571718655219,-9.339515667601603,-9.017392721937,-8.718967015029651,-8.44015662638806,-8.156364192167525,-7.874478280627543],\"xaxis\":\"x\",\"y\":[324.59784078817745,478.3004172051837,663.3753547199042,882.9397463902824,1168.1458913349438,1545.9425540549898,2035.998906324135],\"yaxis\":\"y\",\"type\":\"scatter\"},{\"customdata\":[[\"jk15c_0651_49480.fits\",17.430793629588095,5,2,\"2024-12-06T23:52:30.454892\"],[\"jk15c_0651_49386.fits\",13.313539558059448,5,2,\"2024-12-06T23:51:09.566927\"],[\"jk15c_0651_49298.fits\",10.438992002060987,5,2,\"2024-12-06T23:49:53.344089\"],[\"jk15c_0651_49212.fits\",6.030780765864127,5,2,\"2024-12-06T23:48:39.174073\"],[\"jk15c_0651_49128.fits\",5.37160544524121,5,2,\"2024-12-06T23:47:26.479075\"],[\"jk15c_0651_49039.fits\",9.615929154027805,5,2,\"2024-12-06T23:46:10.061991\"],[\"jk15c_0651_48950.fits\",5.989373628991997,5,2,\"2024-12-06T23:44:53.220669\"]],\"hovertemplate\":\"filter=z\\u003cbr\\u003eSun Altitude (deg)=%{x}\\u003cbr\\u003eADU\\u002fs=%{y}\\u003cbr\\u003efile=%{customdata[0]}\\u003cbr\\u003eexptime=%{customdata[1]}\\u003cbr\\u003eread-mod=%{customdata[2]}\\u003cbr\\u003egain-mod=%{customdata[3]}\\u003cbr\\u003edate-obs=%{customdata[4]}\\u003cextra\\u003e\\u003c\\u002fextra\\u003e\",\"legendgroup\":\"z\",\"line\":{\"color\":\"#EF553B\",\"dash\":\"solid\"},\"marker\":{\"symbol\":\"circle\"},\"mode\":\"lines\",\"name\":\"z\",\"orientation\":\"v\",\"showlegend\":true,\"x\":[-7.3425485310067335,-7.074610363110241,-6.821749567241053,-6.575352179397091,-6.333526191951678,-6.078970769182814,-5.822646224078689],\"xaxis\":\"x\",\"y\":[1379.2079968871572,1793.2486121460854,2323.275112352402,3078.8065531694247,4022.302670279248,5243.893224389417,5721.1570732467535],\"yaxis\":\"y\",\"type\":\"scatter\"}],                        {\"template\":{\"data\":{\"histogram2dcontour\":[{\"type\":\"histogram2dcontour\",\"colorbar\":{\"outlinewidth\":0,\"ticks\":\"\"},\"colorscale\":[[0.0,\"#0d0887\"],[0.1111111111111111,\"#46039f\"],[0.2222222222222222,\"#7201a8\"],[0.3333333333333333,\"#9c179e\"],[0.4444444444444444,\"#bd3786\"],[0.5555555555555556,\"#d8576b\"],[0.6666666666666666,\"#ed7953\"],[0.7777777777777778,\"#fb9f3a\"],[0.8888888888888888,\"#fdca26\"],[1.0,\"#f0f921\"]]}],\"choropleth\":[{\"type\":\"choropleth\",\"colorbar\":{\"outlinewidth\":0,\"ticks\":\"\"}}],\"histogram2d\":[{\"type\":\"histogram2d\",\"colorbar\":{\"outlinewidth\":0,\"ticks\":\"\"},\"colorscale\":[[0.0,\"#0d0887\"],[0.1111111111111111,\"#46039f\"],[0.2222222222222222,\"#7201a8\"],[0.3333333333333333,\"#9c179e\"],[0.4444444444444444,\"#bd3786\"],[0.5555555555555556,\"#d8576b\"],[0.6666666666666666,\"#ed7953\"],[0.7777777777777778,\"#fb9f3a\"],[0.8888888888888888,\"#fdca26\"],[1.0,\"#f0f921\"]]}],\"heatmap\":[{\"type\":\"heatmap\",\"colorbar\":{\"outlinewidth\":0,\"ticks\":\"\"},\"colorscale\":[[0.0,\"#0d0887\"],[0.1111111111111111,\"#46039f\"],[0.2222222222222222,\"#7201a8\"],[0.3333333333333333,\"#9c179e\"],[0.4444444444444444,\"#bd3786\"],[0.5555555555555556,\"#d8576b\"],[0.6666666666666666,\"#ed7953\"],[0.7777777777777778,\"#fb9f3a\"],[0.8888888888888888,\"#fdca26\"],[1.0,\"#f0f921\"]]}],\"heatmapgl\":[{\"type\":\"heatmapgl\",\"colorbar\":{\"outlinewidth\":0,\"ticks\":\"\"},\"colorscale\":[[0.0,\"#0d0887\"],[0.1111111111111111,\"#46039f\"],[0.2222222222222222,\"#7201a8\"],[0.3333333333333333,\"#9c179e\"],[0.4444444444444444,\"#bd3786\"],[0.5555555555555556,\"#d8576b\"],[0.6666666666666666,\"#ed7953\"],[0.7777777777777778,\"#fb9f3a\"],[0.8888888888888888,\"#fdca26\"],[1.0,\"#f0f921\"]]}],\"contourcarpet\":[{\"type\":\"contourcarpet\",\"colorbar\":{\"outlinewidth\":0,\"ticks\":\"\"}}],\"contour\":[{\"type\":\"contour\",\"colorbar\":{\"outlinewidth\":0,\"ticks\":\"\"},\"colorscale\":[[0.0,\"#0d0887\"],[0.1111111111111111,\"#46039f\"],[0.2222222222222222,\"#7201a8\"],[0.3333333333333333,\"#9c179e\"],[0.4444444444444444,\"#bd3786\"],[0.5555555555555556,\"#d8576b\"],[0.6666666666666666,\"#ed7953\"],[0.7777777777777778,\"#fb9f3a\"],[0.8888888888888888,\"#fdca26\"],[1.0,\"#f0f921\"]]}],\"surface\":[{\"type\":\"surface\",\"colorbar\":{\"outlinewidth\":0,\"ticks\":\"\"},\"colorscale\":[[0.0,\"#0d0887\"],[0.1111111111111111,\"#46039f\"],[0.2222222222222222,\"#7201a8\"],[0.3333333333333333,\"#9c179e\"],[0.4444444444444444,\"#bd3786\"],[0.5555555555555556,\"#d8576b\"],[0.6666666666666666,\"#ed7953\"],[0.7777777777777778,\"#fb9f3a\"],[0.8888888888888888,\"#fdca26\"],[1.0,\"#f0f921\"]]}],\"mesh3d\":[{\"type\":\"mesh3d\",\"colorbar\":{\"outlinewidth\":0,\"ticks\":\"\"}}],\"scatter\":[{\"fillpattern\":{\"fillmode\":\"overlay\",\"size\":10,\"solidity\":0.2},\"type\":\"scatter\"}],\"parcoords\":[{\"type\":\"parcoords\",\"line\":{\"colorbar\":{\"outlinewidth\":0,\"ticks\":\"\"}}}],\"scatterpolargl\":[{\"type\":\"scatterpolargl\",\"marker\":{\"colorbar\":{\"outlinewidth\":0,\"ticks\":\"\"}}}],\"bar\":[{\"error_x\":{\"color\":\"#2a3f5f\"},\"error_y\":{\"color\":\"#2a3f5f\"},\"marker\":{\"line\":{\"color\":\"#E5ECF6\",\"width\":0.5},\"pattern\":{\"fillmode\":\"overlay\",\"size\":10,\"solidity\":0.2}},\"type\":\"bar\"}],\"scattergeo\":[{\"type\":\"scattergeo\",\"marker\":{\"colorbar\":{\"outlinewidth\":0,\"ticks\":\"\"}}}],\"scatterpolar\":[{\"type\":\"scatterpolar\",\"marker\":{\"colorbar\":{\"outlinewidth\":0,\"ticks\":\"\"}}}],\"histogram\":[{\"marker\":{\"pattern\":{\"fillmode\":\"overlay\",\"size\":10,\"solidity\":0.2}},\"type\":\"histogram\"}],\"scattergl\":[{\"type\":\"scattergl\",\"marker\":{\"colorbar\":{\"outlinewidth\":0,\"ticks\":\"\"}}}],\"scatter3d\":[{\"type\":\"scatter3d\",\"line\":{\"colorbar\":{\"outlinewidth\":0,\"ticks\":\"\"}},\"marker\":{\"colorbar\":{\"outlinewidth\":0,\"ticks\":\"\"}}}],\"scattermapbox\":[{\"type\":\"scattermapbox\",\"marker\":{\"colorbar\":{\"outlinewidth\":0,\"ticks\":\"\"}}}],\"scatterternary\":[{\"type\":\"scatterternary\",\"marker\":{\"colorbar\":{\"outlinewidth\":0,\"ticks\":\"\"}}}],\"scattercarpet\":[{\"type\":\"scattercarpet\",\"marker\":{\"colorbar\":{\"outlinewidth\":0,\"ticks\":\"\"}}}],\"carpet\":[{\"aaxis\":{\"endlinecolor\":\"#2a3f5f\",\"gridcolor\":\"white\",\"linecolor\":\"white\",\"minorgridcolor\":\"white\",\"startlinecolor\":\"#2a3f5f\"},\"baxis\":{\"endlinecolor\":\"#2a3f5f\",\"gridcolor\":\"white\",\"linecolor\":\"white\",\"minorgridcolor\":\"white\",\"startlinecolor\":\"#2a3f5f\"},\"type\":\"carpet\"}],\"table\":[{\"cells\":{\"fill\":{\"color\":\"#EBF0F8\"},\"line\":{\"color\":\"white\"}},\"header\":{\"fill\":{\"color\":\"#C8D4E3\"},\"line\":{\"color\":\"white\"}},\"type\":\"table\"}],\"barpolar\":[{\"marker\":{\"line\":{\"color\":\"#E5ECF6\",\"width\":0.5},\"pattern\":{\"fillmode\":\"overlay\",\"size\":10,\"solidity\":0.2}},\"type\":\"barpolar\"}],\"pie\":[{\"automargin\":true,\"type\":\"pie\"}]},\"layout\":{\"autotypenumbers\":\"strict\",\"colorway\":[\"#636efa\",\"#EF553B\",\"#00cc96\",\"#ab63fa\",\"#FFA15A\",\"#19d3f3\",\"#FF6692\",\"#B6E880\",\"#FF97FF\",\"#FECB52\"],\"font\":{\"color\":\"#2a3f5f\"},\"hovermode\":\"closest\",\"hoverlabel\":{\"align\":\"left\"},\"paper_bgcolor\":\"white\",\"plot_bgcolor\":\"#E5ECF6\",\"polar\":{\"bgcolor\":\"#E5ECF6\",\"angularaxis\":{\"gridcolor\":\"white\",\"linecolor\":\"white\",\"ticks\":\"\"},\"radialaxis\":{\"gridcolor\":\"white\",\"linecolor\":\"white\",\"ticks\":\"\"}},\"ternary\":{\"bgcolor\":\"#E5ECF6\",\"aaxis\":{\"gridcolor\":\"white\",\"linecolor\":\"white\",\"ticks\":\"\"},\"baxis\":{\"gridcolor\":\"white\",\"linecolor\":\"white\",\"ticks\":\"\"},\"caxis\":{\"gridcolor\":\"white\",\"linecolor\":\"white\",\"ticks\":\"\"}},\"coloraxis\":{\"colorbar\":{\"outlinewidth\":0,\"ticks\":\"\"}},\"colorscale\":{\"sequential\":[[0.0,\"#0d0887\"],[0.1111111111111111,\"#46039f\"],[0.2222222222222222,\"#7201a8\"],[0.3333333333333333,\"#9c179e\"],[0.4444444444444444,\"#bd3786\"],[0.5555555555555556,\"#d8576b\"],[0.6666666666666666,\"#ed7953\"],[0.7777777777777778,\"#fb9f3a\"],[0.8888888888888888,\"#fdca26\"],[1.0,\"#f0f921\"]],\"sequentialminus\":[[0.0,\"#0d0887\"],[0.1111111111111111,\"#46039f\"],[0.2222222222222222,\"#7201a8\"],[0.3333333333333333,\"#9c179e\"],[0.4444444444444444,\"#bd3786\"],[0.5555555555555556,\"#d8576b\"],[0.6666666666666666,\"#ed7953\"],[0.7777777777777778,\"#fb9f3a\"],[0.8888888888888888,\"#fdca26\"],[1.0,\"#f0f921\"]],\"diverging\":[[0,\"#8e0152\"],[0.1,\"#c51b7d\"],[0.2,\"#de77ae\"],[0.3,\"#f1b6da\"],[0.4,\"#fde0ef\"],[0.5,\"#f7f7f7\"],[0.6,\"#e6f5d0\"],[0.7,\"#b8e186\"],[0.8,\"#7fbc41\"],[0.9,\"#4d9221\"],[1,\"#276419\"]]},\"xaxis\":{\"gridcolor\":\"white\",\"linecolor\":\"white\",\"ticks\":\"\",\"title\":{\"standoff\":15},\"zerolinecolor\":\"white\",\"automargin\":true,\"zerolinewidth\":2},\"yaxis\":{\"gridcolor\":\"white\",\"linecolor\":\"white\",\"ticks\":\"\",\"title\":{\"standoff\":15},\"zerolinecolor\":\"white\",\"automargin\":true,\"zerolinewidth\":2},\"scene\":{\"xaxis\":{\"backgroundcolor\":\"#E5ECF6\",\"gridcolor\":\"white\",\"linecolor\":\"white\",\"showbackground\":true,\"ticks\":\"\",\"zerolinecolor\":\"white\",\"gridwidth\":2},\"yaxis\":{\"backgroundcolor\":\"#E5ECF6\",\"gridcolor\":\"white\",\"linecolor\":\"white\",\"showbackground\":true,\"ticks\":\"\",\"zerolinecolor\":\"white\",\"gridwidth\":2},\"zaxis\":{\"backgroundcolor\":\"#E5ECF6\",\"gridcolor\":\"white\",\"linecolor\":\"white\",\"showbackground\":true,\"ticks\":\"\",\"zerolinecolor\":\"white\",\"gridwidth\":2}},\"shapedefaults\":{\"line\":{\"color\":\"#2a3f5f\"}},\"annotationdefaults\":{\"arrowcolor\":\"#2a3f5f\",\"arrowhead\":0,\"arrowwidth\":1},\"geo\":{\"bgcolor\":\"white\",\"landcolor\":\"#E5ECF6\",\"subunitcolor\":\"white\",\"showland\":true,\"showlakes\":true,\"lakecolor\":\"white\"},\"title\":{\"x\":0.05},\"mapbox\":{\"style\":\"light\"}}},\"xaxis\":{\"anchor\":\"y\",\"domain\":[0.0,1.0],\"title\":{\"text\":\"Sun Altitude (deg)\"}},\"yaxis\":{\"anchor\":\"x\",\"domain\":[0.0,1.0],\"title\":{\"text\":\"ADU\\u002fs\"},\"type\":\"log\"},\"legend\":{\"title\":{\"text\":\"filter\"},\"tracegroupgap\":0},\"title\":{\"text\":\"ADU\\u002fs vs Sun Altitude (Evening, read-mod=5)\"}},                        {\"responsive\": true}                    ).then(function(){\n",
       "                            \n",
       "var gd = document.getElementById('6d7abaf1-3ace-41d3-8aa2-b6e004c82357');\n",
       "var x = new MutationObserver(function (mutations, observer) {{\n",
       "        var display = window.getComputedStyle(gd).display;\n",
       "        if (!display || display === 'none') {{\n",
       "            console.log([gd, 'removed!']);\n",
       "            Plotly.purge(gd);\n",
       "            observer.disconnect();\n",
       "        }}\n",
       "}});\n",
       "\n",
       "// Listen for the removal of the full notebook cells\n",
       "var notebookContainer = gd.closest('#notebook-container');\n",
       "if (notebookContainer) {{\n",
       "    x.observe(notebookContainer, {childList: true});\n",
       "}}\n",
       "\n",
       "// Listen for the clearing of the current output cell\n",
       "var outputEl = gd.closest('.output');\n",
       "if (outputEl) {{\n",
       "    x.observe(outputEl, {childList: true});\n",
       "}}\n",
       "\n",
       "                        })                };                });            </script>        </div>"
      ]
     },
     "metadata": {},
     "output_type": "display_data"
    }
   ],
   "execution_count": 115
  },
  {
   "metadata": {
    "ExecuteTime": {
     "end_time": "2024-12-13T06:57:04.844360Z",
     "start_time": "2024-12-13T06:57:04.842802Z"
    }
   },
   "cell_type": "code",
   "source": "",
   "id": "2d4421ba5236634b",
   "outputs": [],
   "execution_count": null
  },
  {
   "metadata": {
    "ExecuteTime": {
     "end_time": "2024-12-13T06:57:12.873794Z",
     "start_time": "2024-12-13T06:57:12.609982Z"
    }
   },
   "cell_type": "code",
   "source": [
    "import polars as pl\n",
    "import matplotlib.pyplot as plt\n",
    "import numpy as np\n",
    "from datetime import datetime, timedelta, timezone\n",
    "\n",
    "# Time settings and parameters\n",
    "threshold = 7\n",
    "days_back = 14\n",
    "end_date = datetime.now(timezone.utc).replace(tzinfo=None)\n",
    "start_date = end_date - timedelta(days=days_back)\n",
    "\n",
    "# Filter data for last 14 days\n",
    "last_two_weeks = stats_df.filter(\n",
    "    (pl.col(\"date-obs\") >= start_date) &\n",
    "    (pl.col(\"date-obs\") <= end_date)\n",
    ")\n",
    "\n",
    "# Add columns for time of day and observation date\n",
    "last_two_weeks = last_two_weeks.with_columns([\n",
    "    (\n",
    "            (pl.col(\"date-obs\").dt.hour().is_between(21, 23)) |\n",
    "            (pl.col(\"date-obs\").dt.hour().is_between(0, 3))\n",
    "    ).alias(\"evening\"),\n",
    "    pl.col(\"date-obs\").dt.truncate(\"1d\").alias(\"obs-date\")\n",
    "])\n",
    "\n",
    "# Data aggregation\n",
    "grouped_data = last_two_weeks.group_by(\n",
    "    [\"read-mod\", \"filter\", \"evening\", \"obs-date\"]\n",
    ").agg(\n",
    "    pl.count(\"file\").alias(\"counts\")\n",
    ")\n",
    "\n",
    "# Prepare X and Y axes\n",
    "x_labels = [(start_date + timedelta(days=i)).strftime('%d') for i in range(days_back)]\n",
    "y_labels = [f\"{row[0]}-{row[1]}-{'Evening' if row[2] else 'Morning'}\"\n",
    "            for row in grouped_data.select([\"read-mod\", \"filter\", \"evening\"]).unique().sort(\n",
    "        by=[\"read-mod\", \"filter\", \"evening\"]\n",
    "    ).iter_rows()]\n",
    "\n",
    "# Create plot matrix\n",
    "heatmap_data = np.zeros((len(y_labels), len(x_labels)))\n",
    "\n",
    "# Fill the matrix\n",
    "for row in grouped_data.iter_rows():\n",
    "    mod, filt, eve, date_obs, count = row\n",
    "    y_idx = y_labels.index(f\"{mod}-{filt}-{'Evening' if eve else 'Morning'}\")\n",
    "    x_idx = x_labels.index(date_obs.strftime('%d'))\n",
    "    if count > threshold:\n",
    "        heatmap_data[y_idx, x_idx] = 1  # Full fill\n",
    "    elif count > 0:\n",
    "        heatmap_data[y_idx, x_idx] = 0.5  # Dot\n",
    "    else:\n",
    "        heatmap_data[y_idx, x_idx] = 0  # Empty\n",
    "\n",
    "# Plot creation\n",
    "fig, ax = plt.subplots(figsize=(16, 8))\n",
    "cax = ax.matshow(heatmap_data, cmap=\"Greens\", aspect=\"auto\")\n",
    "\n",
    "# Add grid\n",
    "ax.set_xticks(np.arange(-.5, len(x_labels), 1), minor=True)\n",
    "ax.set_yticks(np.arange(-.5, len(y_labels), 1), minor=True)\n",
    "ax.grid(which=\"minor\", color=\"black\", linestyle='-', linewidth=1)\n",
    "\n",
    "# Axis settings\n",
    "ax.set_xticks(np.arange(len(x_labels)))\n",
    "ax.set_xticklabels(x_labels, rotation=0)\n",
    "\n",
    "ax.set_yticks(np.arange(len(y_labels)))\n",
    "ax.set_yticklabels(y_labels)\n",
    "\n",
    "# Color bar\n",
    "fig.colorbar(cax, ticks=[0, 0.5, 1], label=\"Images\")\n",
    "plt.title(\"Images from last 14 days (Evening/Morning)\")\n",
    "plt.show()"
   ],
   "id": "cd84fc571ce34ee6",
   "outputs": [
    {
     "data": {
      "text/plain": [
       "<Figure size 1600x800 with 2 Axes>"
      ],
      "image/png": "[encoded data removed]"
     },
     "metadata": {},
     "output_type": "display_data"
    }
   ],
   "execution_count": 116
  },
  {
   "metadata": {
    "ExecuteTime": {
     "end_time": "2024-12-13T06:57:13.729182Z",
     "start_time": "2024-12-13T06:57:13.481362Z"
    }
   },
   "cell_type": "code",
   "source": [
    "import polars as pl\n",
    "import matplotlib.pyplot as plt\n",
    "import numpy as np\n",
    "from datetime import datetime, timedelta, timezone\n",
    "\n",
    "# Time settings and parameters\n",
    "threshold = 7\n",
    "days_back = 14\n",
    "end_date = datetime.now(timezone.utc).replace(tzinfo=None)\n",
    "start_date = end_date - timedelta(days=days_back)\n",
    "\n",
    "# Define standard sets of filters and read modes\n",
    "show_read_modes = [2]\n",
    "show_filters = [\n",
    "    # Johnson-Cousins\n",
    "    'B', 'V', 'Ic',\n",
    "    # Sloan\n",
    "    'u', 'g', 'r', 'i', 'z',\n",
    "    # Strömgren\n",
    "    'u_s', 'v_s', 'b_s', 'y_s',\n",
    "    # Hydrogen lines\n",
    "    'Ha_w', 'Ha_n', 'Hb_w', 'Hb_n'\n",
    "]\n",
    "time_periods = ['Morning', 'Evening']\n",
    "\n",
    "# Create all combinations for y-axis (this ensures all combinations are shown)\n",
    "y_labels = []\n",
    "for mode in show_read_modes:\n",
    "    for filt in show_filters:\n",
    "        for period in time_periods:\n",
    "            y_labels.append(f\"{mode}-{filt}-{period}\")\n",
    "\n",
    "# Filter data for last 14 days\n",
    "last_two_weeks = stats_df.filter(\n",
    "    (pl.col(\"date-obs\") >= start_date) &\n",
    "    (pl.col(\"date-obs\") <= end_date)\n",
    ")\n",
    "\n",
    "# Add columns for time of day and observation date\n",
    "last_two_weeks = last_two_weeks.with_columns([\n",
    "    (\n",
    "            (pl.col(\"date-obs\").dt.hour().is_between(21, 23)) |\n",
    "            (pl.col(\"date-obs\").dt.hour().is_between(0, 3))\n",
    "    ).alias(\"evening\"),\n",
    "    pl.col(\"date-obs\").dt.truncate(\"1d\").alias(\"obs-date\")\n",
    "])\n",
    "\n",
    "# Data aggregation\n",
    "grouped_data = last_two_weeks.group_by(\n",
    "    [\"read-mod\", \"filter\", \"evening\", \"obs-date\"]\n",
    ").agg(\n",
    "    pl.count(\"file\").alias(\"counts\")\n",
    ")\n",
    "\n",
    "# Prepare X axis\n",
    "x_labels = [(start_date + timedelta(days=i)).strftime('%d') for i in range(days_back)]\n",
    "\n",
    "# Create plot matrix\n",
    "heatmap_data = np.zeros((len(y_labels), len(x_labels)))\n",
    "\n",
    "# Fill the matrix\n",
    "for row in grouped_data.iter_rows():\n",
    "    mod, filt, eve, date_obs, count = row\n",
    "    if mod in show_read_modes and filt in show_filters:\n",
    "        label = f\"{mod}-{filt}-{'Evening' if eve else 'Morning'}\"\n",
    "        if label in y_labels:  # Check if this combination is in our predefined set\n",
    "            y_idx = y_labels.index(label)\n",
    "            x_idx = x_labels.index(date_obs.strftime('%d'))\n",
    "            if count > threshold:\n",
    "                heatmap_data[y_idx, x_idx] = 1  # Full fill\n",
    "            elif count > 0:\n",
    "                heatmap_data[y_idx, x_idx] = 0.5  # Dot\n",
    "\n",
    "# Plot creation\n",
    "fig, ax = plt.subplots(figsize=(16, 8))\n",
    "cax = ax.matshow(heatmap_data, cmap=\"Greens\", aspect=\"auto\")\n",
    "\n",
    "# Add grid only between different filter+readmode sets (not between evening/morning)\n",
    "grid_lines = np.arange(-.5, len(y_labels), 2)  # Skip every other line\n",
    "ax.set_yticks(grid_lines, minor=True)\n",
    "ax.set_xticks(np.arange(-.5, len(x_labels), 1), minor=True)\n",
    "ax.grid(which=\"minor\", color=\"black\", linestyle='-', linewidth=1)\n",
    "\n",
    "# Axis settings\n",
    "ax.set_xticks(np.arange(len(x_labels)))\n",
    "ax.set_xticklabels(x_labels, rotation=0)\n",
    "\n",
    "ax.set_yticks(np.arange(len(y_labels)))\n",
    "ax.set_yticklabels(y_labels)\n",
    "\n",
    "# Color bar\n",
    "fig.colorbar(cax, ticks=[0, 0.5, 1], label=\"Images\")\n",
    "plt.title(\"Images from last 14 days (Evening/Morning)\")\n",
    "plt.show()"
   ],
   "id": "d3097b77362c2d15",
   "outputs": [
    {
     "data": {
      "text/plain": [
       "<Figure size 1600x800 with 2 Axes>"
      ],
      "image/png": "[encoded data removed]"
     },
     "metadata": {},
     "output_type": "display_data"
    }
   ],
   "execution_count": 117
  },
  {
   "metadata": {},
   "cell_type": "code",
   "outputs": [],
   "execution_count": null,
   "source": "",
   "id": "68d92875551eeeaf"
  }
 ],
 "metadata": {
  "kernelspec": {
   "display_name": "Python 3",
   "language": "python",
   "name": "python3"
  },
  "language_info": {
   "codemirror_mode": {
    "name": "ipython",
    "version": 2
   },
   "file_extension": ".py",
   "mimetype": "text/x-python",
   "name": "python",
   "nbconvert_exporter": "python",
   "pygments_lexer": "ipython2",
   "version": "2.7.6"
  }
 },
 "nbformat": 4,
 "nbformat_minor": 5
}
