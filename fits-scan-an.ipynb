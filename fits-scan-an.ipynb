{
 "cells": [
  {
   "metadata": {},
   "cell_type": "markdown",
   "source": "# OCA FLAT Files Scan and Analysis",
   "id": "2204166c5c4f35d3"
  },
  {
   "metadata": {
    "ExecuteTime": {
     "end_time": "2024-12-12T05:28:18.892003Z",
     "start_time": "2024-12-12T05:28:18.484804Z"
    }
   },
   "cell_type": "code",
   "source": [
    "from concurrent.futures import ProcessPoolExecutor\n",
    "from astropy.io import fits\n",
    "from astropy.time import Time\n",
    "from astropy.coordinates import AltAz, get_sun, EarthLocation\n",
    "from tqdm.notebook import tqdm\n",
    "import polars as pl\n",
    "import numpy as np\n",
    "from pathlib import Path\n",
    "# import bottleneck as bn  # jeśli chcesz użyć bottleneck\n"
   ],
   "id": "6aca0a3a028cfa1d",
   "outputs": [],
   "execution_count": 1
  },
  {
   "metadata": {},
   "cell_type": "markdown",
   "source": "## Config",
   "id": "f3259ec7bc5958c6"
  },
  {
   "metadata": {
    "ExecuteTime": {
     "end_time": "2024-12-12T05:28:21.108192Z",
     "start_time": "2024-12-12T05:28:21.072185Z"
    }
   },
   "cell_type": "code",
   "source": [
    "base_dir = '~/data/fits'\n",
    "telescopes = ['zb08', 'wk06', 'jk15']\n",
    "\n",
    "tel = 'jk15'\n",
    "\n",
    "observatory = EarthLocation.of_site('OCA')"
   ],
   "id": "7938c6f113f5f252",
   "outputs": [],
   "execution_count": 2
  },
  {
   "metadata": {
    "ExecuteTime": {
     "end_time": "2024-12-12T05:33:11.191432Z",
     "start_time": "2024-12-12T05:33:11.170726Z"
    }
   },
   "cell_type": "code",
   "source": [
    "# Zakładam że obserwatorium jest znane\n",
    "# np.:\n",
    "loc = EarthLocation.of_site('OCA')\n",
    "lat = loc.lat.value\n",
    "lon = loc.lon.value\n",
    "height = loc.height.value\n"
   ],
   "id": "ab75d57b6b4e4f09",
   "outputs": [],
   "execution_count": 11
  },
  {
   "metadata": {},
   "cell_type": "markdown",
   "source": "Directories",
   "id": "8f987d1429c11f47"
  },
  {
   "metadata": {
    "ExecuteTime": {
     "end_time": "2024-12-12T05:28:22.995593Z",
     "start_time": "2024-12-12T05:28:22.992489Z"
    }
   },
   "cell_type": "code",
   "source": "flats_dir = Path(base_dir).expanduser() / Path(tel) / Path('processed-ofp/flats')\n",
   "id": "5fbc58e0600b7ea5",
   "outputs": [],
   "execution_count": 3
  },
  {
   "metadata": {
    "ExecuteTime": {
     "end_time": "2024-12-12T05:28:24.796091Z",
     "start_time": "2024-12-12T05:28:24.749886Z"
    }
   },
   "cell_type": "code",
   "source": [
    "filters = [f.name for f in flats_dir.glob('*')]\n",
    "print('Recognized filters:', filters)"
   ],
   "id": "63ccb3d974175fe4",
   "outputs": [
    {
     "name": "stdout",
     "output_type": "stream",
     "text": [
      "Recognized filters: ['empty', 'i', 'z', 'Ha_w', 'u_s', 'Ic', 'b_s', 'B', 'V', 'g', 'v_s', 'y_s', 'r', 'u']\n"
     ]
    }
   ],
   "execution_count": 4
  },
  {
   "metadata": {
    "ExecuteTime": {
     "end_time": "2024-12-12T05:34:21.556900Z",
     "start_time": "2024-12-12T05:34:21.533568Z"
    }
   },
   "cell_type": "code",
   "source": [
    "def process_file(p, f, lat, lon, height, tel):\n",
    "    # Tworzymy EarthLocation na miejscu\n",
    "    observatory = EarthLocation.from_geodetic(lon=lon, lat=lat, height=height)\n",
    "\n",
    "    with fits.open(p) as hdul:\n",
    "        hdu = hdul[0]\n",
    "        date_obs = Time(hdu.header['DATE-OBS'], format='isot', scale='utc')\n",
    "        altaz_frame = AltAz(obstime=date_obs, location=observatory)\n",
    "        data = hdu.data\n",
    "        lower, upper = np.percentile(data, [5, 95])\n",
    "\n",
    "        mean_central_90 = np.mean(data[(data > lower) & (data < upper)]) if np.any((data > lower) & (data < upper)) else np.nan\n",
    "\n",
    "        return {\n",
    "            'filter': f,\n",
    "            'file': p.name,\n",
    "            'exptime': float(hdu.header['EXPTIME']),\n",
    "            'date-obs': date_obs.to_datetime(),\n",
    "            'sun-alt': float(get_sun(date_obs).transform_to(altaz_frame).alt.deg),\n",
    "            'mean': float(data.mean()),\n",
    "            'median': float(np.median(data)),\n",
    "            'std': float(data.std()),\n",
    "            'min': float(data.min()),\n",
    "            'max': float(data.max()),\n",
    "            'min-05': float(lower),\n",
    "            'max-95': float(upper),\n",
    "            'mean-central-90': float(mean_central_90),\n",
    "            'read-mod': int(hdu.header['READ-MOD']),\n",
    "            'gain-mod': int(hdu.header['GAIN-MOD']),\n",
    "            'flat-era': int(hdu.header.get('FLAT-ERA', 0)),\n",
    "            'test': int(hdu.header.get('TEST', 0)),\n",
    "            'bitpix': int(hdu.header['BITPIX']),\n",
    "        }\n"
   ],
   "id": "d118636f3936f089",
   "outputs": [],
   "execution_count": 12
  },
  {
   "metadata": {
    "ExecuteTime": {
     "end_time": "2024-12-12T05:34:26.917988Z",
     "start_time": "2024-12-12T05:34:24.051275Z"
    }
   },
   "cell_type": "code",
   "source": [
    "all_paths = []\n",
    "for f in filters:\n",
    "    paths = list((flats_dir / Path(f)).glob(f'*/{tel}?_????_?????.fits'))\n",
    "    for p in paths:\n",
    "        all_paths.append((p, f))"
   ],
   "id": "8cb30da826db04ac",
   "outputs": [],
   "execution_count": 13
  },
  {
   "metadata": {
    "ExecuteTime": {
     "end_time": "2024-12-12T05:34:26.929111Z",
     "start_time": "2024-12-12T05:34:26.926296Z"
    }
   },
   "cell_type": "code",
   "source": "print(f'Found {len(all_paths)} FITS files')",
   "id": "a54b758e14974b91",
   "outputs": [
    {
     "name": "stdout",
     "output_type": "stream",
     "text": [
      "Found 1225 FITS files\n"
     ]
    }
   ],
   "execution_count": 14
  },
  {
   "metadata": {
    "ExecuteTime": {
     "end_time": "2024-12-12T05:34:28.623395Z",
     "start_time": "2024-12-12T05:34:28.621079Z"
    }
   },
   "cell_type": "code",
   "source": "stats_df = None\n",
   "id": "184027ff491a727d",
   "outputs": [],
   "execution_count": 15
  },
  {
   "metadata": {
    "ExecuteTime": {
     "end_time": "2024-12-12T05:34:30.773458Z",
     "start_time": "2024-12-12T05:34:30.604421Z"
    }
   },
   "cell_type": "code",
   "source": [
    "def process_file_wrapper(args):\n",
    "    p, f = args\n",
    "    return process_file(p, f, lat, lon, height, tel)\n",
    "\n",
    "with ProcessPoolExecutor() as executor:\n",
    "    results = list(tqdm(\n",
    "        executor.map(process_file_wrapper, all_paths),\n",
    "        total=len(all_paths),\n",
    "        desc=\"Processing FITS\"\n",
    "    ))"
   ],
   "id": "6c085c1aa71c4374",
   "outputs": [
    {
     "data": {
      "text/plain": [
       "Processing FITS:   0%|          | 0/1225 [00:00<?, ?it/s]"
      ],
      "application/vnd.jupyter.widget-view+json": {
       "version_major": 2,
       "version_minor": 0,
       "model_id": "a0973c341a2c46d286b2e5ecbd0da2e4"
      }
     },
     "metadata": {},
     "output_type": "display_data"
    },
    {
     "name": "stderr",
     "output_type": "stream",
     "text": [
      "Process SpawnProcess-21:\n",
      "Process SpawnProcess-18:\n",
      "Process SpawnProcess-19:\n",
      "Traceback (most recent call last):\n",
      "Process SpawnProcess-17:\n",
      "Process SpawnProcess-20:\n",
      "Traceback (most recent call last):\n",
      "Traceback (most recent call last):\n",
      "Traceback (most recent call last):\n",
      "  File \"/Library/Frameworks/Python.framework/Versions/3.11/lib/python3.11/multiprocessing/process.py\", line 314, in _bootstrap\n",
      "    self.run()\n",
      "  File \"/Library/Frameworks/Python.framework/Versions/3.11/lib/python3.11/multiprocessing/process.py\", line 108, in run\n",
      "    self._target(*self._args, **self._kwargs)\n",
      "  File \"/Library/Frameworks/Python.framework/Versions/3.11/lib/python3.11/concurrent/futures/process.py\", line 244, in _process_worker\n",
      "    call_item = call_queue.get(block=True)\n",
      "                ^^^^^^^^^^^^^^^^^^^^^^^^^^\n",
      "  File \"/Library/Frameworks/Python.framework/Versions/3.11/lib/python3.11/multiprocessing/queues.py\", line 122, in get\n",
      "    return _ForkingPickler.loads(res)\n",
      "           ^^^^^^^^^^^^^^^^^^^^^^^^^^\n",
      "AttributeError: Can't get attribute 'process_file_wrapper' on <module '__main__' (built-in)>\n",
      "  File \"/Library/Frameworks/Python.framework/Versions/3.11/lib/python3.11/multiprocessing/process.py\", line 314, in _bootstrap\n",
      "    self.run()\n",
      "  File \"/Library/Frameworks/Python.framework/Versions/3.11/lib/python3.11/multiprocessing/process.py\", line 108, in run\n",
      "    self._target(*self._args, **self._kwargs)\n",
      "  File \"/Library/Frameworks/Python.framework/Versions/3.11/lib/python3.11/concurrent/futures/process.py\", line 244, in _process_worker\n",
      "    call_item = call_queue.get(block=True)\n",
      "                ^^^^^^^^^^^^^^^^^^^^^^^^^^\n",
      "  File \"/Library/Frameworks/Python.framework/Versions/3.11/lib/python3.11/multiprocessing/queues.py\", line 122, in get\n",
      "    return _ForkingPickler.loads(res)\n",
      "           ^^^^^^^^^^^^^^^^^^^^^^^^^^\n",
      "AttributeError: Can't get attribute 'process_file_wrapper' on <module '__main__' (built-in)>\n",
      "  File \"/Library/Frameworks/Python.framework/Versions/3.11/lib/python3.11/multiprocessing/process.py\", line 314, in _bootstrap\n",
      "    self.run()\n",
      "  File \"/Library/Frameworks/Python.framework/Versions/3.11/lib/python3.11/multiprocessing/process.py\", line 108, in run\n",
      "    self._target(*self._args, **self._kwargs)\n",
      "  File \"/Library/Frameworks/Python.framework/Versions/3.11/lib/python3.11/concurrent/futures/process.py\", line 244, in _process_worker\n",
      "    call_item = call_queue.get(block=True)\n",
      "                ^^^^^^^^^^^^^^^^^^^^^^^^^^\n",
      "  File \"/Library/Frameworks/Python.framework/Versions/3.11/lib/python3.11/multiprocessing/queues.py\", line 122, in get\n",
      "    return _ForkingPickler.loads(res)\n",
      "           ^^^^^^^^^^^^^^^^^^^^^^^^^^\n",
      "AttributeError: Can't get attribute 'process_file_wrapper' on <module '__main__' (built-in)>\n",
      "Traceback (most recent call last):\n",
      "  File \"/Library/Frameworks/Python.framework/Versions/3.11/lib/python3.11/multiprocessing/process.py\", line 314, in _bootstrap\n",
      "    self.run()\n",
      "  File \"/Library/Frameworks/Python.framework/Versions/3.11/lib/python3.11/multiprocessing/process.py\", line 108, in run\n",
      "    self._target(*self._args, **self._kwargs)\n",
      "  File \"/Library/Frameworks/Python.framework/Versions/3.11/lib/python3.11/concurrent/futures/process.py\", line 244, in _process_worker\n",
      "    call_item = call_queue.get(block=True)\n",
      "                ^^^^^^^^^^^^^^^^^^^^^^^^^^\n",
      "  File \"/Library/Frameworks/Python.framework/Versions/3.11/lib/python3.11/multiprocessing/queues.py\", line 122, in get\n",
      "    return _ForkingPickler.loads(res)\n",
      "           ^^^^^^^^^^^^^^^^^^^^^^^^^^\n",
      "AttributeError: Can't get attribute 'process_file_wrapper' on <module '__main__' (built-in)>\n",
      "  File \"/Library/Frameworks/Python.framework/Versions/3.11/lib/python3.11/multiprocessing/process.py\", line 314, in _bootstrap\n",
      "    self.run()\n",
      "  File \"/Library/Frameworks/Python.framework/Versions/3.11/lib/python3.11/multiprocessing/process.py\", line 108, in run\n",
      "    self._target(*self._args, **self._kwargs)\n",
      "  File \"/Library/Frameworks/Python.framework/Versions/3.11/lib/python3.11/concurrent/futures/process.py\", line 244, in _process_worker\n",
      "    call_item = call_queue.get(block=True)\n",
      "                ^^^^^^^^^^^^^^^^^^^^^^^^^^\n",
      "  File \"/Library/Frameworks/Python.framework/Versions/3.11/lib/python3.11/multiprocessing/queues.py\", line 122, in get\n",
      "    return _ForkingPickler.loads(res)\n",
      "           ^^^^^^^^^^^^^^^^^^^^^^^^^^\n",
      "AttributeError: Can't get attribute 'process_file_wrapper' on <module '__main__' (built-in)>\n",
      "Process SpawnProcess-23:\n",
      "Traceback (most recent call last):\n",
      "  File \"/Library/Frameworks/Python.framework/Versions/3.11/lib/python3.11/multiprocessing/process.py\", line 314, in _bootstrap\n",
      "    self.run()\n",
      "  File \"/Library/Frameworks/Python.framework/Versions/3.11/lib/python3.11/multiprocessing/process.py\", line 108, in run\n",
      "    self._target(*self._args, **self._kwargs)\n",
      "  File \"/Library/Frameworks/Python.framework/Versions/3.11/lib/python3.11/concurrent/futures/process.py\", line 244, in _process_worker\n",
      "    call_item = call_queue.get(block=True)\n",
      "                ^^^^^^^^^^^^^^^^^^^^^^^^^^\n",
      "  File \"/Library/Frameworks/Python.framework/Versions/3.11/lib/python3.11/multiprocessing/queues.py\", line 122, in get\n",
      "    return _ForkingPickler.loads(res)\n",
      "           ^^^^^^^^^^^^^^^^^^^^^^^^^^\n",
      "AttributeError: Can't get attribute 'process_file_wrapper' on <module '__main__' (built-in)>\n"
     ]
    },
    {
     "ename": "BrokenProcessPool",
     "evalue": "A process in the process pool was terminated abruptly while the future was running or pending.",
     "output_type": "error",
     "traceback": [
      "\u001B[0;31m---------------------------------------------------------------------------\u001B[0m",
      "\u001B[0;31mBrokenProcessPool\u001B[0m                         Traceback (most recent call last)",
      "Cell \u001B[0;32mIn[16], line 6\u001B[0m\n\u001B[1;32m      3\u001B[0m     \u001B[38;5;28;01mreturn\u001B[39;00m process_file(p, f, lat, lon, height, tel)\n\u001B[1;32m      5\u001B[0m \u001B[38;5;28;01mwith\u001B[39;00m ProcessPoolExecutor() \u001B[38;5;28;01mas\u001B[39;00m executor:\n\u001B[0;32m----> 6\u001B[0m     results \u001B[38;5;241m=\u001B[39m \u001B[38;5;28;43mlist\u001B[39;49m\u001B[43m(\u001B[49m\u001B[43mtqdm\u001B[49m\u001B[43m(\u001B[49m\n\u001B[1;32m      7\u001B[0m \u001B[43m        \u001B[49m\u001B[43mexecutor\u001B[49m\u001B[38;5;241;43m.\u001B[39;49m\u001B[43mmap\u001B[49m\u001B[43m(\u001B[49m\u001B[43mprocess_file_wrapper\u001B[49m\u001B[43m,\u001B[49m\u001B[43m \u001B[49m\u001B[43mall_paths\u001B[49m\u001B[43m)\u001B[49m\u001B[43m,\u001B[49m\n\u001B[1;32m      8\u001B[0m \u001B[43m        \u001B[49m\u001B[43mtotal\u001B[49m\u001B[38;5;241;43m=\u001B[39;49m\u001B[38;5;28;43mlen\u001B[39;49m\u001B[43m(\u001B[49m\u001B[43mall_paths\u001B[49m\u001B[43m)\u001B[49m\u001B[43m,\u001B[49m\n\u001B[1;32m      9\u001B[0m \u001B[43m        \u001B[49m\u001B[43mdesc\u001B[49m\u001B[38;5;241;43m=\u001B[39;49m\u001B[38;5;124;43m\"\u001B[39;49m\u001B[38;5;124;43mProcessing FITS\u001B[39;49m\u001B[38;5;124;43m\"\u001B[39;49m\n\u001B[1;32m     10\u001B[0m \u001B[43m    \u001B[49m\u001B[43m)\u001B[49m\u001B[43m)\u001B[49m\n",
      "File \u001B[0;32m~/DataspellProjects/oca-fits-anal/venv/lib/python3.11/site-packages/tqdm/notebook.py:250\u001B[0m, in \u001B[0;36mtqdm_notebook.__iter__\u001B[0;34m(self)\u001B[0m\n\u001B[1;32m    248\u001B[0m \u001B[38;5;28;01mtry\u001B[39;00m:\n\u001B[1;32m    249\u001B[0m     it \u001B[38;5;241m=\u001B[39m \u001B[38;5;28msuper\u001B[39m()\u001B[38;5;241m.\u001B[39m\u001B[38;5;21m__iter__\u001B[39m()\n\u001B[0;32m--> 250\u001B[0m \u001B[43m    \u001B[49m\u001B[38;5;28;43;01mfor\u001B[39;49;00m\u001B[43m \u001B[49m\u001B[43mobj\u001B[49m\u001B[43m \u001B[49m\u001B[38;5;129;43;01min\u001B[39;49;00m\u001B[43m \u001B[49m\u001B[43mit\u001B[49m\u001B[43m:\u001B[49m\n\u001B[1;32m    251\u001B[0m \u001B[43m        \u001B[49m\u001B[38;5;66;43;03m# return super(tqdm...) will not catch exception\u001B[39;49;00m\n\u001B[1;32m    252\u001B[0m \u001B[43m        \u001B[49m\u001B[38;5;28;43;01myield\u001B[39;49;00m\u001B[43m \u001B[49m\u001B[43mobj\u001B[49m\n\u001B[1;32m    253\u001B[0m \u001B[38;5;66;03m# NB: except ... [ as ...] breaks IPython async KeyboardInterrupt\u001B[39;00m\n",
      "File \u001B[0;32m~/DataspellProjects/oca-fits-anal/venv/lib/python3.11/site-packages/tqdm/std.py:1181\u001B[0m, in \u001B[0;36mtqdm.__iter__\u001B[0;34m(self)\u001B[0m\n\u001B[1;32m   1178\u001B[0m time \u001B[38;5;241m=\u001B[39m \u001B[38;5;28mself\u001B[39m\u001B[38;5;241m.\u001B[39m_time\n\u001B[1;32m   1180\u001B[0m \u001B[38;5;28;01mtry\u001B[39;00m:\n\u001B[0;32m-> 1181\u001B[0m \u001B[43m    \u001B[49m\u001B[38;5;28;43;01mfor\u001B[39;49;00m\u001B[43m \u001B[49m\u001B[43mobj\u001B[49m\u001B[43m \u001B[49m\u001B[38;5;129;43;01min\u001B[39;49;00m\u001B[43m \u001B[49m\u001B[43miterable\u001B[49m\u001B[43m:\u001B[49m\n\u001B[1;32m   1182\u001B[0m \u001B[43m        \u001B[49m\u001B[38;5;28;43;01myield\u001B[39;49;00m\u001B[43m \u001B[49m\u001B[43mobj\u001B[49m\n\u001B[1;32m   1183\u001B[0m \u001B[43m        \u001B[49m\u001B[38;5;66;43;03m# Update and possibly print the progressbar.\u001B[39;49;00m\n\u001B[1;32m   1184\u001B[0m \u001B[43m        \u001B[49m\u001B[38;5;66;43;03m# Note: does not call self.update(1) for speed optimisation.\u001B[39;49;00m\n",
      "File \u001B[0;32m/Library/Frameworks/Python.framework/Versions/3.11/lib/python3.11/concurrent/futures/process.py:597\u001B[0m, in \u001B[0;36m_chain_from_iterable_of_lists\u001B[0;34m(iterable)\u001B[0m\n\u001B[1;32m    591\u001B[0m \u001B[38;5;28;01mdef\u001B[39;00m \u001B[38;5;21m_chain_from_iterable_of_lists\u001B[39m(iterable):\n\u001B[1;32m    592\u001B[0m \u001B[38;5;250m    \u001B[39m\u001B[38;5;124;03m\"\"\"\u001B[39;00m\n\u001B[1;32m    593\u001B[0m \u001B[38;5;124;03m    Specialized implementation of itertools.chain.from_iterable.\u001B[39;00m\n\u001B[1;32m    594\u001B[0m \u001B[38;5;124;03m    Each item in *iterable* should be a list.  This function is\u001B[39;00m\n\u001B[1;32m    595\u001B[0m \u001B[38;5;124;03m    careful not to keep references to yielded objects.\u001B[39;00m\n\u001B[1;32m    596\u001B[0m \u001B[38;5;124;03m    \"\"\"\u001B[39;00m\n\u001B[0;32m--> 597\u001B[0m \u001B[43m    \u001B[49m\u001B[38;5;28;43;01mfor\u001B[39;49;00m\u001B[43m \u001B[49m\u001B[43melement\u001B[49m\u001B[43m \u001B[49m\u001B[38;5;129;43;01min\u001B[39;49;00m\u001B[43m \u001B[49m\u001B[43miterable\u001B[49m\u001B[43m:\u001B[49m\n\u001B[1;32m    598\u001B[0m \u001B[43m        \u001B[49m\u001B[43melement\u001B[49m\u001B[38;5;241;43m.\u001B[39;49m\u001B[43mreverse\u001B[49m\u001B[43m(\u001B[49m\u001B[43m)\u001B[49m\n\u001B[1;32m    599\u001B[0m \u001B[43m        \u001B[49m\u001B[38;5;28;43;01mwhile\u001B[39;49;00m\u001B[43m \u001B[49m\u001B[43melement\u001B[49m\u001B[43m:\u001B[49m\n",
      "File \u001B[0;32m/Library/Frameworks/Python.framework/Versions/3.11/lib/python3.11/concurrent/futures/_base.py:619\u001B[0m, in \u001B[0;36mExecutor.map.<locals>.result_iterator\u001B[0;34m()\u001B[0m\n\u001B[1;32m    616\u001B[0m \u001B[38;5;28;01mwhile\u001B[39;00m fs:\n\u001B[1;32m    617\u001B[0m     \u001B[38;5;66;03m# Careful not to keep a reference to the popped future\u001B[39;00m\n\u001B[1;32m    618\u001B[0m     \u001B[38;5;28;01mif\u001B[39;00m timeout \u001B[38;5;129;01mis\u001B[39;00m \u001B[38;5;28;01mNone\u001B[39;00m:\n\u001B[0;32m--> 619\u001B[0m         \u001B[38;5;28;01myield\u001B[39;00m \u001B[43m_result_or_cancel\u001B[49m\u001B[43m(\u001B[49m\u001B[43mfs\u001B[49m\u001B[38;5;241;43m.\u001B[39;49m\u001B[43mpop\u001B[49m\u001B[43m(\u001B[49m\u001B[43m)\u001B[49m\u001B[43m)\u001B[49m\n\u001B[1;32m    620\u001B[0m     \u001B[38;5;28;01melse\u001B[39;00m:\n\u001B[1;32m    621\u001B[0m         \u001B[38;5;28;01myield\u001B[39;00m _result_or_cancel(fs\u001B[38;5;241m.\u001B[39mpop(), end_time \u001B[38;5;241m-\u001B[39m time\u001B[38;5;241m.\u001B[39mmonotonic())\n",
      "File \u001B[0;32m/Library/Frameworks/Python.framework/Versions/3.11/lib/python3.11/concurrent/futures/_base.py:317\u001B[0m, in \u001B[0;36m_result_or_cancel\u001B[0;34m(***failed resolving arguments***)\u001B[0m\n\u001B[1;32m    315\u001B[0m \u001B[38;5;28;01mtry\u001B[39;00m:\n\u001B[1;32m    316\u001B[0m     \u001B[38;5;28;01mtry\u001B[39;00m:\n\u001B[0;32m--> 317\u001B[0m         \u001B[38;5;28;01mreturn\u001B[39;00m \u001B[43mfut\u001B[49m\u001B[38;5;241;43m.\u001B[39;49m\u001B[43mresult\u001B[49m\u001B[43m(\u001B[49m\u001B[43mtimeout\u001B[49m\u001B[43m)\u001B[49m\n\u001B[1;32m    318\u001B[0m     \u001B[38;5;28;01mfinally\u001B[39;00m:\n\u001B[1;32m    319\u001B[0m         fut\u001B[38;5;241m.\u001B[39mcancel()\n",
      "File \u001B[0;32m/Library/Frameworks/Python.framework/Versions/3.11/lib/python3.11/concurrent/futures/_base.py:456\u001B[0m, in \u001B[0;36mFuture.result\u001B[0;34m(self, timeout)\u001B[0m\n\u001B[1;32m    454\u001B[0m     \u001B[38;5;28;01mraise\u001B[39;00m CancelledError()\n\u001B[1;32m    455\u001B[0m \u001B[38;5;28;01melif\u001B[39;00m \u001B[38;5;28mself\u001B[39m\u001B[38;5;241m.\u001B[39m_state \u001B[38;5;241m==\u001B[39m FINISHED:\n\u001B[0;32m--> 456\u001B[0m     \u001B[38;5;28;01mreturn\u001B[39;00m \u001B[38;5;28;43mself\u001B[39;49m\u001B[38;5;241;43m.\u001B[39;49m\u001B[43m__get_result\u001B[49m\u001B[43m(\u001B[49m\u001B[43m)\u001B[49m\n\u001B[1;32m    457\u001B[0m \u001B[38;5;28;01melse\u001B[39;00m:\n\u001B[1;32m    458\u001B[0m     \u001B[38;5;28;01mraise\u001B[39;00m \u001B[38;5;167;01mTimeoutError\u001B[39;00m()\n",
      "File \u001B[0;32m/Library/Frameworks/Python.framework/Versions/3.11/lib/python3.11/concurrent/futures/_base.py:401\u001B[0m, in \u001B[0;36mFuture.__get_result\u001B[0;34m(self)\u001B[0m\n\u001B[1;32m    399\u001B[0m \u001B[38;5;28;01mif\u001B[39;00m \u001B[38;5;28mself\u001B[39m\u001B[38;5;241m.\u001B[39m_exception:\n\u001B[1;32m    400\u001B[0m     \u001B[38;5;28;01mtry\u001B[39;00m:\n\u001B[0;32m--> 401\u001B[0m         \u001B[38;5;28;01mraise\u001B[39;00m \u001B[38;5;28mself\u001B[39m\u001B[38;5;241m.\u001B[39m_exception\n\u001B[1;32m    402\u001B[0m     \u001B[38;5;28;01mfinally\u001B[39;00m:\n\u001B[1;32m    403\u001B[0m         \u001B[38;5;66;03m# Break a reference cycle with the exception in self._exception\u001B[39;00m\n\u001B[1;32m    404\u001B[0m         \u001B[38;5;28mself\u001B[39m \u001B[38;5;241m=\u001B[39m \u001B[38;5;28;01mNone\u001B[39;00m\n",
      "\u001B[0;31mBrokenProcessPool\u001B[0m: A process in the process pool was terminated abruptly while the future was running or pending."
     ]
    }
   ],
   "execution_count": 16
  },
  {
   "metadata": {
    "ExecuteTime": {
     "end_time": "2024-12-12T03:54:10.834280Z",
     "start_time": "2024-12-12T03:54:10.828895Z"
    }
   },
   "cell_type": "code",
   "source": [
    "stats_df = pl.DataFrame(results)\n",
    "print(stats_df)"
   ],
   "id": "cd84fc571ce34ee6",
   "outputs": [
    {
     "data": {
      "text/plain": [
       "(<Longitude -70.20128 deg>, <Latitude -24.59867 deg>, <Quantity 2817. m>)"
      ]
     },
     "execution_count": 31,
     "metadata": {},
     "output_type": "execute_result"
    }
   ],
   "execution_count": 31
  },
  {
   "metadata": {
    "ExecuteTime": {
     "end_time": "2024-12-12T06:37:35.169967Z",
     "start_time": "2024-12-12T05:44:36.037800Z"
    }
   },
   "cell_type": "code",
   "source": [
    "from concurrent.futures import ThreadPoolExecutor\n",
    "from tqdm.notebook import tqdm\n",
    "import polars as pl\n",
    "from pathlib import Path\n",
    "\n",
    "# Wczytywanie plików FITS\n",
    "def process_file(p, f, lat, lon, height, tel):\n",
    "    observatory = EarthLocation.from_geodetic(lon=lon, lat=lat, height=height)\n",
    "    try:\n",
    "        with fits.open(p) as hdul:\n",
    "            hdu = hdul[0]\n",
    "            date_obs = Time(hdu.header['DATE-OBS'], format='isot', scale='utc')\n",
    "            altaz_frame = AltAz(obstime=date_obs, location=observatory)\n",
    "            data = hdu.data\n",
    "\n",
    "            lower, upper = np.percentile(data, [5, 95])\n",
    "            mean_central_90 = np.mean(data[(data > lower) & (data < upper)]) if np.any((data > lower) & (data < upper)) else np.nan\n",
    "\n",
    "            return {\n",
    "                'filter': f,\n",
    "                'file': p.name,\n",
    "                'exptime': float(hdu.header['EXPTIME']),\n",
    "                'date-obs': date_obs.to_datetime(),\n",
    "                'sun-alt': float(get_sun(date_obs).transform_to(altaz_frame).alt.deg),\n",
    "                'mean': float(data.mean()),\n",
    "                'median': float(np.median(data)),\n",
    "                'std': float(data.std()),\n",
    "                'min': float(data.min()),\n",
    "                'max': float(data.max()),\n",
    "                'min-05': float(lower),\n",
    "                'max-95': float(upper),\n",
    "                'mean-central-90': float(mean_central_90),\n",
    "                'read-mod': int(hdu.header['READ-MOD']),\n",
    "                'gain-mod': int(hdu.header['GAIN-MOD']),\n",
    "                'flat-era': int(hdu.header.get('FLAT-ERA', 0)),\n",
    "                'test': int(hdu.header.get('TEST', 0)),\n",
    "                'bitpix': int(hdu.header['BITPIX']),\n",
    "            }\n",
    "    except Exception as e:\n",
    "        return {'error': str(e), 'file': p.name}\n",
    "\n",
    "# Inicjalizacja zmiennych\n",
    "base_dir = '~/data/fits'\n",
    "tel = 'jk15'\n",
    "loc = EarthLocation.of_site('OCA')\n",
    "lat, lon, height = loc.lat.value, loc.lon.value, loc.height.value\n",
    "\n",
    "flats_dir = Path(base_dir).expanduser() / Path(tel) / Path('processed-ofp/flats')\n",
    "filters = [f.name for f in flats_dir.glob('*')]\n",
    "\n",
    "# Zbieranie ścieżek\n",
    "all_paths = [(p, f, lat, lon, height, tel)\n",
    "             for f in filters\n",
    "             for p in (flats_dir / Path(f)).glob(f'*/{tel}?_????_?????.fits')]\n",
    "\n",
    "# Przetwarzanie równoległe za pomocą ThreadPoolExecutor\n",
    "with ThreadPoolExecutor() as executor:\n",
    "    results = list(tqdm(\n",
    "        executor.map(lambda args: process_file(*args), all_paths),\n",
    "        total=len(all_paths),\n",
    "        desc=\"Processing FITS\"\n",
    "    ))\n",
    "\n",
    "# Tworzenie DataFrame\n",
    "stats_df = pl.DataFrame(results)\n",
    "print(stats_df)"
   ],
   "id": "d3097b77362c2d15",
   "outputs": [
    {
     "data": {
      "text/plain": [
       "Processing FITS:   0%|          | 0/1225 [00:00<?, ?it/s]"
      ],
      "application/vnd.jupyter.widget-view+json": {
       "version_major": 2,
       "version_minor": 0,
       "model_id": "85438c578f304bb08b0e19dd33112528"
      }
     },
     "metadata": {},
     "output_type": "display_data"
    },
    {
     "name": "stdout",
     "output_type": "stream",
     "text": [
      "shape: (1_225, 18)\n",
      "┌────────┬─────────────────┬───────────┬─────────────────┬───┬──────────┬──────────┬──────┬────────┐\n",
      "│ filter ┆ file            ┆ exptime   ┆ date-obs        ┆ … ┆ gain-mod ┆ flat-era ┆ test ┆ bitpix │\n",
      "│ ---    ┆ ---             ┆ ---       ┆ ---             ┆   ┆ ---      ┆ ---      ┆ ---  ┆ ---    │\n",
      "│ str    ┆ str             ┆ f64       ┆ datetime[μs]    ┆   ┆ i64      ┆ i64      ┆ i64  ┆ i64    │\n",
      "╞════════╪═════════════════╪═══════════╪═════════════════╪═══╪══════════╪══════════╪══════╪════════╡\n",
      "│ empty  ┆ jk15c_0639_6362 ┆ 0.5       ┆ 2024-11-25      ┆ … ┆ 2        ┆ 0        ┆ 0    ┆ 16     │\n",
      "│        ┆ 5.fits          ┆           ┆ 03:16:11.956925 ┆   ┆          ┆          ┆      ┆        │\n",
      "│ empty  ┆ jk15c_0639_6401 ┆ 0.5       ┆ 2024-11-25      ┆ … ┆ 2        ┆ 0        ┆ 0    ┆ 16     │\n",
      "│        ┆ 6.fits          ┆           ┆ 03:21:49.651920 ┆   ┆          ┆          ┆      ┆        │\n",
      "│ empty  ┆ jk15c_0639_6326 ┆ 0.5       ┆ 2024-11-25      ┆ … ┆ 2        ┆ 0        ┆ 0    ┆ 16     │\n",
      "│        ┆ 7.fits          ┆           ┆ 03:11:02.419086 ┆   ┆          ┆          ┆      ┆        │\n",
      "│ empty  ┆ jk15c_0639_6377 ┆ 0.5       ┆ 2024-11-25      ┆ … ┆ 2        ┆ 0        ┆ 0    ┆ 16     │\n",
      "│        ┆ 4.fits          ┆           ┆ 03:18:20.316295 ┆   ┆          ┆          ┆      ┆        │\n",
      "│ empty  ┆ jk15c_0639_6389 ┆ 0.5       ┆ 2024-11-25      ┆ … ┆ 2        ┆ 0        ┆ 0    ┆ 16     │\n",
      "│        ┆ 5.fits          ┆           ┆ 03:20:05.654717 ┆   ┆          ┆          ┆      ┆        │\n",
      "│ …      ┆ …               ┆ …         ┆ …               ┆ … ┆ …        ┆ …        ┆ …    ┆ …      │\n",
      "│ u      ┆ jk15c_0622_8992 ┆ 6.62897   ┆ 2024-11-08      ┆ … ┆ 2        ┆ 0        ┆ 0    ┆ 16     │\n",
      "│        ┆ 0.fits          ┆           ┆ 09:34:50.712305 ┆   ┆          ┆          ┆      ┆        │\n",
      "│ u      ┆ jk15c_0622_8977 ┆ 10.738543 ┆ 2024-11-08      ┆ … ┆ 2        ┆ 0        ┆ 0    ┆ 16     │\n",
      "│        ┆ 5.fits          ┆           ┆ 09:32:45.580175 ┆   ┆          ┆          ┆      ┆        │\n",
      "│ u      ┆ jk15c_0622_9017 ┆ 2.985177  ┆ 2024-11-08      ┆ … ┆ 2        ┆ 0        ┆ 0    ┆ 16     │\n",
      "│        ┆ 9.fits          ┆           ┆ 09:38:34.338418 ┆   ┆          ┆          ┆      ┆        │\n",
      "│ u      ┆ jk15c_0622_8984 ┆ 8.480326  ┆ 2024-11-08      ┆ … ┆ 2        ┆ 0        ┆ 0    ┆ 16     │\n",
      "│        ┆ 5.fits          ┆           ┆ 09:33:46.131843 ┆   ┆          ┆          ┆      ┆        │\n",
      "│ u      ┆ jk15c_0622_9011 ┆ 3.585174  ┆ 2024-11-08      ┆ … ┆ 2        ┆ 0        ┆ 0    ┆ 16     │\n",
      "│        ┆ 7.fits          ┆           ┆ 09:37:40.969862 ┆   ┆          ┆          ┆      ┆        │\n",
      "└────────┴─────────────────┴───────────┴─────────────────┴───┴──────────┴──────────┴──────┴────────┘\n"
     ]
    }
   ],
   "execution_count": 21
  },
  {
   "metadata": {},
   "cell_type": "code",
   "outputs": [],
   "execution_count": null,
   "source": "",
   "id": "5741640e2bf702c7"
  }
 ],
 "metadata": {
  "kernelspec": {
   "display_name": "Python 3",
   "language": "python",
   "name": "python3"
  },
  "language_info": {
   "codemirror_mode": {
    "name": "ipython",
    "version": 2
   },
   "file_extension": ".py",
   "mimetype": "text/x-python",
   "name": "python",
   "nbconvert_exporter": "python",
   "pygments_lexer": "ipython2",
   "version": "2.7.6"
  }
 },
 "nbformat": 4,
 "nbformat_minor": 5
}
