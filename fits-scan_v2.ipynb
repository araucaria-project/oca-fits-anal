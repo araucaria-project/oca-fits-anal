{
 "cells": [
  {
   "metadata": {},
   "cell_type": "markdown",
   "source": "# OCA FLAT Files Scan and Analysis",
   "id": "2204166c5c4f35d3"
  },
  {
   "metadata": {
    "ExecuteTime": {
     "end_time": "2024-12-17T14:23:39.137933Z",
     "start_time": "2024-12-17T14:23:39.108103Z"
    }
   },
   "cell_type": "code",
   "source": [
    "import datetime\n",
    "from datetime import timedelta\n",
    "import matplotlib.pyplot as plt\n",
    "\n",
    "from pathlib import Path\n",
    "\n",
    "from tqdm import tqdm\n",
    "from astropy.io import fits\n",
    "from astropy.coordinates import EarthLocation, AltAz, get_sun\n",
    "from astropy.time import Time\n",
    "\n",
    "import numpy as np\n",
    "\n",
    "import polars as pl\n",
    "\n",
    "from rich.progress import Progress"
   ],
   "id": "6aca0a3a028cfa1d",
   "outputs": [],
   "execution_count": 122
  },
  {
   "metadata": {},
   "cell_type": "markdown",
   "source": "## Config",
   "id": "f3259ec7bc5958c6"
  },
  {
   "metadata": {
    "ExecuteTime": {
     "end_time": "2024-12-17T14:23:41.723939Z",
     "start_time": "2024-12-17T14:23:41.721040Z"
    }
   },
   "cell_type": "code",
   "source": [
    "base_dir = '~/data/fits'\n",
    "telescopes = ['zb08', 'wk06', 'jk15']\n",
    "\n",
    "tel = 'jk15'\n",
    "\n",
    "observatory = EarthLocation.of_site('OCA')\n",
    "all_flat_file = Path(f\"{tel}_all_flat_file_stats.parquet\")\n"
   ],
   "id": "7938c6f113f5f252",
   "outputs": [],
   "execution_count": 123
  },
  {
   "metadata": {},
   "cell_type": "markdown",
   "source": "Directories",
   "id": "8f987d1429c11f47"
  },
  {
   "metadata": {
    "ExecuteTime": {
     "end_time": "2024-12-17T14:23:48.314838Z",
     "start_time": "2024-12-17T14:23:48.310348Z"
    }
   },
   "cell_type": "code",
   "source": "flats_dir = Path(base_dir).expanduser() / Path(tel) / Path('processed-ofp/flats')\n",
   "id": "5fbc58e0600b7ea5",
   "outputs": [],
   "execution_count": 124
  },
  {
   "metadata": {
    "ExecuteTime": {
     "end_time": "2024-12-17T14:23:52.590379Z",
     "start_time": "2024-12-17T14:23:51.039345Z"
    }
   },
   "cell_type": "code",
   "source": [
    "filters = [f.name for f in flats_dir.glob('*')]\n",
    "print('Recognized filters:', filters)"
   ],
   "id": "63ccb3d974175fe4",
   "outputs": [
    {
     "name": "stdout",
     "output_type": "stream",
     "text": [
      "Recognized filters: ['empty', 'i', 'z', 'Ha_w', 'u_s', 'Ic', 'b_s', 'B', 'V', 'g', 'v_s', 'y_s', 'r', 'u']\n"
     ]
    }
   ],
   "execution_count": 125
  },
  {
   "metadata": {
    "jupyter": {
     "is_executing": true
    },
    "ExecuteTime": {
     "start_time": "2024-12-17T14:23:55.246714Z"
    }
   },
   "cell_type": "code",
   "source": [
    "rebuild = False # Set to True to rebuild the stats not using existing all_flat_file\n",
    "\n",
    "if all_flat_file.exists() and not rebuild:\n",
    "    stats_df = pl.read_parquet(all_flat_file)\n",
    "    files_in_stats = set(stats_df['file'].to_list())\n",
    "    print(f'Loaded {len(stats_df)} records from {all_flat_file}')\n",
    "else:\n",
    "    stats_df = pl.DataFrame(schema={\n",
    "        \"filter\": pl.Utf8,\n",
    "        \"file\": pl.Utf8,\n",
    "        \"exptime\": pl.Float64,\n",
    "        \"date-obs\": pl.Datetime,\n",
    "        \"sun-alt\": pl.Float64,\n",
    "        \"mean\": pl.Float64,\n",
    "        \"median\": pl.Float64,\n",
    "        \"std\": pl.Float64,\n",
    "        \"min\": pl.Float64,\n",
    "        \"max\": pl.Float64,\n",
    "        \"min-05\": pl.Float64,\n",
    "        \"max-95\": pl.Float64,\n",
    "        \"mean-central-90\": pl.Float64,\n",
    "        \"read-mod\": pl.Int64,\n",
    "        \"gain-mod\": pl.Int64,\n",
    "        \"flat-era\": pl.Int64,\n",
    "        \"test\": pl.Int64,\n",
    "        \"bitpix\": pl.Int64,\n",
    "    })\n",
    "    files_in_stats = set()\n",
    "\n",
    "# collect all paths\n",
    "all_paths = []\n",
    "for f in tqdm(filters, desc=\"Collecting paths of FLATS for each filter\", unit=\"filter\"):\n",
    "    paths = list((flats_dir / Path(f)).glob(f'*/{tel}?_????_?????.fits'))\n",
    "    paths = [p for p in paths if p.name not in files_in_stats]\n",
    "    all_paths.extend(paths)\n",
    "\n",
    "print(f'Found {len(all_paths)} FITS files')\n",
    "\n",
    "missing_files = []\n",
    "for p in tqdm(all_paths, desc=\"Processing FLATS\", unit=\"plik\"):\n",
    "    try:\n",
    "        with fits.open(p) as hdul:\n",
    "            hdu = hdul[0]\n",
    "            date_obs = Time(hdu.header['DATE-OBS'], format='isot', scale='utc')\n",
    "            altaz_frame = AltAz(obstime=date_obs, location=observatory)\n",
    "            lower, upper = np.percentile(hdu.data, [5, 95])\n",
    "\n",
    "            # Tworzenie nowego wiersza danych\n",
    "            row = pl.DataFrame([{\n",
    "                'filter': hdu.header['FILTER'],\n",
    "                'file': p.name,\n",
    "                'exptime': hdu.header['EXPTIME'],\n",
    "                'date-obs': date_obs.to_datetime(),\n",
    "                'sun-alt': get_sun(date_obs).transform_to(altaz_frame).alt.deg,\n",
    "                'mean': hdu.data.mean(),\n",
    "                'median': np.median(hdu.data),\n",
    "                'std': hdu.data.std(),\n",
    "                'min': float(hdu.data.min()),\n",
    "                'max': float(hdu.data.max()),\n",
    "                'min-05': float(lower),\n",
    "                'max-95': float(upper),\n",
    "                'mean-central-90': np.mean(hdu.data[(hdu.data > lower) & (hdu.data < upper)]),\n",
    "                'read-mod': hdu.header['READ-MOD'],\n",
    "                'gain-mod': hdu.header['GAIN-MOD'],\n",
    "                'flat-era': hdu.header.get('FLAT-ERA', 0),\n",
    "                'test': hdu.header.get('TEST', 0),\n",
    "                'bitpix': hdu.header['BITPIX'],\n",
    "            }])\n",
    "\n",
    "            # Append the new row to the stats dataframe\n",
    "            stats_df = pl.concat([stats_df, row], how='vertical')\n",
    "    except Exception as e:\n",
    "        missing_files.append((p, e))\n",
    "print(f'Processed {len(all_paths) - len(missing_files)} files, {len(missing_files)} missing')\n"
   ],
   "id": "d118636f3936f089",
   "outputs": [
    {
     "name": "stdout",
     "output_type": "stream",
     "text": [
      "Loaded 1246 records from jk15_all_flat_file_stats.parquet\n"
     ]
    },
    {
     "name": "stderr",
     "output_type": "stream",
     "text": [
      "Collecting paths of FLATS for each filter:  79%|███████▊  | 11/14 [01:12<00:20,  6.76s/filter]"
     ]
    }
   ],
   "execution_count": null
  },
  {
   "metadata": {
    "ExecuteTime": {
     "end_time": "2024-12-17T13:09:50.556507Z",
     "start_time": "2024-12-17T13:09:50.540048Z"
    }
   },
   "cell_type": "code",
   "source": [
    "stats_df.write_parquet(all_flat_file)\n",
    "print(f'All flat files stats saved to {all_flat_file}, {len(stats_df)} records')"
   ],
   "id": "8cb30da826db04ac",
   "outputs": [
    {
     "name": "stdout",
     "output_type": "stream",
     "text": [
      "All flat files stats saved to jk15_all_flat_file_stats.parquet, 1246 records\n"
     ]
    }
   ],
   "execution_count": 117
  },
  {
   "metadata": {
    "ExecuteTime": {
     "end_time": "2024-12-17T13:09:58.475036Z",
     "start_time": "2024-12-17T13:09:58.462380Z"
    }
   },
   "cell_type": "code",
   "source": "print(f'Readaot modees used: {stats_df[\"read-mod\"].value_counts()}')",
   "id": "69fdc15436a4fd47",
   "outputs": [
    {
     "name": "stdout",
     "output_type": "stream",
     "text": [
      "Readaot modees used: shape: (3, 2)\n",
      "┌──────────┬───────┐\n",
      "│ read-mod ┆ count │\n",
      "│ ---      ┆ ---   │\n",
      "│ i64      ┆ u32   │\n",
      "╞══════════╪═══════╡\n",
      "│ 2        ┆ 786   │\n",
      "│ 5        ┆ 435   │\n",
      "│ 4        ┆ 25    │\n",
      "└──────────┴───────┘\n"
     ]
    }
   ],
   "execution_count": 118
  },
  {
   "metadata": {
    "ExecuteTime": {
     "end_time": "2024-12-17T13:10:09.621721Z",
     "start_time": "2024-12-17T13:10:09.619619Z"
    }
   },
   "cell_type": "code",
   "source": "read_mode = 2",
   "id": "4d67cc26f68c3078",
   "outputs": [],
   "execution_count": 119
  },
  {
   "metadata": {
    "ExecuteTime": {
     "end_time": "2024-12-17T13:10:13.030391Z",
     "start_time": "2024-12-17T13:10:13.025748Z"
    }
   },
   "cell_type": "code",
   "source": [
    "stats_df = stats_df.with_columns(\n",
    "    ((stats_df['mean-central-90'] - 0) / stats_df['exptime']).alias(\"speed\")\n",
    ")"
   ],
   "id": "184027ff491a727d",
   "outputs": [],
   "execution_count": 120
  },
  {
   "metadata": {
    "ExecuteTime": {
     "end_time": "2024-12-17T13:10:15.804644Z",
     "start_time": "2024-12-17T13:10:15.390263Z"
    }
   },
   "cell_type": "code",
   "source": [
    "import plotly.express as px\n",
    "import numpy as np\n",
    "import polars as pl\n",
    "from scipy.optimize import curve_fit\n",
    "\n",
    "# Exponential fit function\n",
    "def exp_fit(x, a, b):\n",
    "    return a * np.exp(b * x)\n",
    "\n",
    "# Filter parameters\n",
    "adu = [15000, 35000]\n",
    "\n",
    "# Filter dataset\n",
    "filtered_data = stats_df.filter(\n",
    "    (stats_df['sun-alt'] >= -10) &\n",
    "    (stats_df['sun-alt'] <= 2) &\n",
    "    (stats_df['read-mod'] == read_mode) &\n",
    "    (stats_df['mean-central-90'] >= adu[0]) &\n",
    "    (stats_df['mean-central-90'] < adu[1])\n",
    ")\n",
    "\n",
    "# Separate morning and evening\n",
    "morning_conditions = (filtered_data['date-obs'].dt.hour().is_between(3, 9, closed=\"both\"))\n",
    "morning_data = filtered_data.filter(morning_conditions).sort(\"sun-alt\").to_pandas()\n",
    "evening_data = filtered_data.filter(~morning_conditions).sort(\"sun-alt\").to_pandas()\n",
    "\n",
    "# Plotting function\n",
    "def plot_with_fit(data, title):\n",
    "    fig = px.scatter(\n",
    "        data,\n",
    "        x=\"sun-alt\",\n",
    "        y=\"speed\",\n",
    "        color=\"filter\",\n",
    "        hover_data=[\"file\", \"exptime\", \"read-mod\", \"gain-mod\", \"date-obs\"],\n",
    "        title=title,\n",
    "        labels={\"sun-alt\": \"Sun Altitude (deg)\", \"speed\": \"ADU/s\"},\n",
    "        log_y=True,  # Logarithmic scale\n",
    "        opacity=0.3,  # Background points\n",
    "    )\n",
    "\n",
    "    # Add exponential fit lines for each filter\n",
    "    for filt in data[\"filter\"].unique():\n",
    "        filt_data = data[data[\"filter\"] == filt]\n",
    "\n",
    "        if len(filt_data) > 2:  # Fit only if enough points\n",
    "            # Exponential fit\n",
    "            popt, _ = curve_fit(exp_fit, filt_data[\"sun-alt\"], filt_data[\"speed\"], maxfev=10000)\n",
    "            fit_x = np.linspace(filt_data[\"sun-alt\"].min(), filt_data[\"sun-alt\"].max(), 100)\n",
    "            fit_y = exp_fit(fit_x, *popt)\n",
    "\n",
    "            # Add fitted line\n",
    "            fig.add_scatter(\n",
    "                x=fit_x, y=fit_y, mode=\"lines\", name=f\"{filt} fit\",\n",
    "                line=dict(color=px.colors.qualitative.Plotly[data[\"filter\"].unique().tolist().index(filt)], width=2),\n",
    "                opacity=1.0\n",
    "            )\n",
    "\n",
    "    fig.show()\n",
    "\n",
    "# Generate plots for morning and evening\n",
    "for label, data in [(\"Morning\", morning_data), (\"Evening\", evening_data)]:\n",
    "    plot_with_fit(data, f\"ADU/s vs Sun Altitude ({label}, read-mod={read_mode})\")"
   ],
   "id": "c2d56f3a5dad9869",
   "outputs": [
    {
     "ename": "IndexError",
     "evalue": "list index out of range",
     "output_type": "error",
     "traceback": [
      "\u001B[0;31m---------------------------------------------------------------------------\u001B[0m",
      "\u001B[0;31mIndexError\u001B[0m                                Traceback (most recent call last)",
      "Cell \u001B[0;32mIn[121], line 62\u001B[0m\n\u001B[1;32m     60\u001B[0m \u001B[38;5;66;03m# Generate plots for morning and evening\u001B[39;00m\n\u001B[1;32m     61\u001B[0m \u001B[38;5;28;01mfor\u001B[39;00m label, data \u001B[38;5;129;01min\u001B[39;00m [(\u001B[38;5;124m\"\u001B[39m\u001B[38;5;124mMorning\u001B[39m\u001B[38;5;124m\"\u001B[39m, morning_data), (\u001B[38;5;124m\"\u001B[39m\u001B[38;5;124mEvening\u001B[39m\u001B[38;5;124m\"\u001B[39m, evening_data)]:\n\u001B[0;32m---> 62\u001B[0m     \u001B[43mplot_with_fit\u001B[49m\u001B[43m(\u001B[49m\u001B[43mdata\u001B[49m\u001B[43m,\u001B[49m\u001B[43m \u001B[49m\u001B[38;5;124;43mf\u001B[39;49m\u001B[38;5;124;43m\"\u001B[39;49m\u001B[38;5;124;43mADU/s vs Sun Altitude (\u001B[39;49m\u001B[38;5;132;43;01m{\u001B[39;49;00m\u001B[43mlabel\u001B[49m\u001B[38;5;132;43;01m}\u001B[39;49;00m\u001B[38;5;124;43m, read-mod=\u001B[39;49m\u001B[38;5;132;43;01m{\u001B[39;49;00m\u001B[43mread_mode\u001B[49m\u001B[38;5;132;43;01m}\u001B[39;49;00m\u001B[38;5;124;43m)\u001B[39;49m\u001B[38;5;124;43m\"\u001B[39;49m\u001B[43m)\u001B[49m\n",
      "Cell \u001B[0;32mIn[121], line 54\u001B[0m, in \u001B[0;36mplot_with_fit\u001B[0;34m(data, title)\u001B[0m\n\u001B[1;32m     49\u001B[0m         fit_y \u001B[38;5;241m=\u001B[39m exp_fit(fit_x, \u001B[38;5;241m*\u001B[39mpopt)\n\u001B[1;32m     51\u001B[0m         \u001B[38;5;66;03m# Add fitted line\u001B[39;00m\n\u001B[1;32m     52\u001B[0m         fig\u001B[38;5;241m.\u001B[39madd_scatter(\n\u001B[1;32m     53\u001B[0m             x\u001B[38;5;241m=\u001B[39mfit_x, y\u001B[38;5;241m=\u001B[39mfit_y, mode\u001B[38;5;241m=\u001B[39m\u001B[38;5;124m\"\u001B[39m\u001B[38;5;124mlines\u001B[39m\u001B[38;5;124m\"\u001B[39m, name\u001B[38;5;241m=\u001B[39m\u001B[38;5;124mf\u001B[39m\u001B[38;5;124m\"\u001B[39m\u001B[38;5;132;01m{\u001B[39;00mfilt\u001B[38;5;132;01m}\u001B[39;00m\u001B[38;5;124m fit\u001B[39m\u001B[38;5;124m\"\u001B[39m,\n\u001B[0;32m---> 54\u001B[0m             line\u001B[38;5;241m=\u001B[39m\u001B[38;5;28mdict\u001B[39m(color\u001B[38;5;241m=\u001B[39m\u001B[43mpx\u001B[49m\u001B[38;5;241;43m.\u001B[39;49m\u001B[43mcolors\u001B[49m\u001B[38;5;241;43m.\u001B[39;49m\u001B[43mqualitative\u001B[49m\u001B[38;5;241;43m.\u001B[39;49m\u001B[43mPlotly\u001B[49m\u001B[43m[\u001B[49m\u001B[43mdata\u001B[49m\u001B[43m[\u001B[49m\u001B[38;5;124;43m\"\u001B[39;49m\u001B[38;5;124;43mfilter\u001B[39;49m\u001B[38;5;124;43m\"\u001B[39;49m\u001B[43m]\u001B[49m\u001B[38;5;241;43m.\u001B[39;49m\u001B[43munique\u001B[49m\u001B[43m(\u001B[49m\u001B[43m)\u001B[49m\u001B[38;5;241;43m.\u001B[39;49m\u001B[43mtolist\u001B[49m\u001B[43m(\u001B[49m\u001B[43m)\u001B[49m\u001B[38;5;241;43m.\u001B[39;49m\u001B[43mindex\u001B[49m\u001B[43m(\u001B[49m\u001B[43mfilt\u001B[49m\u001B[43m)\u001B[49m\u001B[43m]\u001B[49m, width\u001B[38;5;241m=\u001B[39m\u001B[38;5;241m2\u001B[39m),\n\u001B[1;32m     55\u001B[0m             opacity\u001B[38;5;241m=\u001B[39m\u001B[38;5;241m1.0\u001B[39m\n\u001B[1;32m     56\u001B[0m         )\n\u001B[1;32m     58\u001B[0m fig\u001B[38;5;241m.\u001B[39mshow()\n",
      "\u001B[0;31mIndexError\u001B[0m: list index out of range"
     ]
    }
   ],
   "execution_count": 121
  },
  {
   "metadata": {
    "ExecuteTime": {
     "end_time": "2024-12-13T09:46:42.931037Z",
     "start_time": "2024-12-13T09:46:42.928980Z"
    }
   },
   "cell_type": "code",
   "source": "",
   "id": "2d4421ba5236634b",
   "outputs": [],
   "execution_count": null
  },
  {
   "metadata": {
    "ExecuteTime": {
     "end_time": "2024-12-13T09:58:09.347347Z",
     "start_time": "2024-12-13T09:58:09.227683Z"
    }
   },
   "cell_type": "code",
   "source": [
    "import polars as pl\n",
    "import matplotlib.pyplot as plt\n",
    "import numpy as np\n",
    "from datetime import datetime, timedelta, timezone\n",
    "\n",
    "# Ustawienia czasu i parametrów\n",
    "threshold = 7\n",
    "days_back = 14\n",
    "end_date = datetime.now(timezone.utc).replace(hour=23, minute=59, second=59, microsecond=0).replace(tzinfo=None)\n",
    "start_date = end_date - timedelta(days=days_back - 1)\n",
    "\n",
    "# Definicja filtrów i trybów odczytu\n",
    "show_read_modes = [read_mode]\n",
    "show_filters = [f for f in filters if f != 'empty']\n",
    "time_periods = ['Morning', 'Evening']\n",
    "\n",
    "# Przygotowanie etykiet osi pionowej\n",
    "y_labels = [f\"{mode}-{filt}\" for mode in show_read_modes for filt in show_filters]\n",
    "\n",
    "# Filtrowanie danych z ostatnich 14 dni\n",
    "last_two_weeks = stats_df.filter(\n",
    "    (pl.col(\"date-obs\") >= start_date) & (pl.col(\"date-obs\") <= end_date)\n",
    ")\n",
    "\n",
    "# Dodanie kolumn dla pory dnia i daty obserwacji\n",
    "last_two_weeks = last_two_weeks.with_columns([\n",
    "    (\n",
    "            (pl.col(\"date-obs\").dt.hour().is_between(21, 23)) |\n",
    "            (pl.col(\"date-obs\").dt.hour().is_between(0, 3))\n",
    "    ).alias(\"evening\"),\n",
    "    pl.col(\"date-obs\").dt.truncate(\"1d\").alias(\"obs-date\")\n",
    "])\n",
    "\n",
    "# Agregacja danych\n",
    "grouped_data = last_two_weeks.group_by(\n",
    "    [\"read-mod\", \"filter\", \"evening\", \"obs-date\"]\n",
    ").agg(\n",
    "    pl.count(\"file\").alias(\"counts\")\n",
    ")\n",
    "\n",
    "# Przygotowanie osi X (Bieżący dzień włącznie)\n",
    "x_labels = []\n",
    "x_label_ticks = []\n",
    "for i in range(days_back):\n",
    "    day_label = (start_date + timedelta(days=i)).strftime('%d')\n",
    "    x_labels.extend([f\"{day_label}-M\", f\"{day_label}-E\"])\n",
    "    x_label_ticks.append((2 * i) + 0.5)\n",
    "\n",
    "# Przygotowanie danych do wykresu\n",
    "heatmap_data = np.zeros((len(y_labels), len(x_labels)))\n",
    "\n",
    "# Wypełnianie macierzy\n",
    "for row in grouped_data.iter_rows():\n",
    "    mod, filt, eve, date_obs, count = row\n",
    "    if mod in show_read_modes and filt in show_filters:\n",
    "        y_label = f\"{mod}-{filt}\"\n",
    "        if y_label in y_labels:\n",
    "            y_idx = y_labels.index(y_label)\n",
    "            day_idx = date_obs.strftime('%d')\n",
    "            period = 'E' if eve else 'M'\n",
    "\n",
    "            # Obsługa błędów\n",
    "            if f\"{day_idx}-{period}\" not in x_labels:\n",
    "                print(f\"Warning: Missing label {day_idx}-{period}\")\n",
    "                continue\n",
    "\n",
    "            x_idx = x_labels.index(f\"{day_idx}-{period}\")\n",
    "            if count >= threshold:\n",
    "                heatmap_data[y_idx, x_idx] = 0.6  # Jaśniejszy zielony (mniej ciemny)\n",
    "            elif count > 0:\n",
    "                heatmap_data[y_idx, x_idx] = 0.3  # Kropka\n",
    "\n",
    "# Tworzenie wykresu\n",
    "fig, ax = plt.subplots(figsize=(16, len(show_filters) / 4))  # Zmniejszenie osi Y\n",
    "cax = ax.matshow(heatmap_data, cmap=\"Greens\", aspect=\"auto\", alpha=0.6)\n",
    "\n",
    "# Dodanie etykiet osi\n",
    "ax.set_xticks(x_label_ticks)\n",
    "ax.set_xticklabels([(start_date + timedelta(days=i)).strftime('%d') for i in range(days_back)])\n",
    "\n",
    "ax.set_yticks(np.arange(len(y_labels)))\n",
    "ax.set_yticklabels(y_labels, fontsize=8)\n",
    "\n",
    "# Dodanie siatki między różnymi filtrami\n",
    "ax.set_xticks(np.arange(-.5, len(x_labels), 2), minor=True)\n",
    "ax.set_yticks(np.arange(-.5, len(y_labels), 1), minor=True)\n",
    "ax.grid(which=\"minor\", color=\"black\", linestyle='-', linewidth=0.5)\n",
    "\n",
    "# Pasek kolorów\n",
    "# fig.colorbar(cax, ticks=[0, 0.5, 1.0], label=\"Images\")\n",
    "\n",
    "plt.title(\"Images from the Last 14 Days\")\n",
    "plt.show()"
   ],
   "id": "cd84fc571ce34ee6",
   "outputs": [
    {
     "data": {
      "text/plain": [
       "<Figure size 1600x325 with 1 Axes>"
      ],
      "image/png": "[encoded data removed]"
     },
     "metadata": {},
     "output_type": "display_data"
    }
   ],
   "execution_count": 106
  },
  {
   "metadata": {
    "ExecuteTime": {
     "end_time": "2024-12-13T09:57:56.150525Z",
     "start_time": "2024-12-13T09:57:56.117701Z"
    }
   },
   "cell_type": "code",
   "source": [
    "import polars as pl\n",
    "import matplotlib.pyplot as plt\n",
    "import numpy as np\n",
    "from datetime import datetime, timedelta, timezone\n",
    "\n",
    "# Time settings and parameters\n",
    "threshold = 7\n",
    "days_back = 14\n",
    "end_date = datetime.now(timezone.utc).replace(tzinfo=None)\n",
    "start_date = end_date - timedelta(days=days_back)\n",
    "\n",
    "# Define filters and read modes\n",
    "show_read_modes = [read_mode]\n",
    "show_filters = [f for f in filters if f != 'empty']\n",
    "time_periods = ['Morning', 'Evening']\n",
    "\n",
    "# Prepare Y-axis labels\n",
    "y_labels = [f\"{mode}-{filt}\" for mode in show_read_modes for filt in show_filters]\n",
    "\n",
    "# Filter data from the last 14 days\n",
    "last_two_weeks = stats_df.filter(\n",
    "    (pl.col(\"date-obs\") >= start_date) & (pl.col(\"date-obs\") <= end_date)\n",
    ")\n",
    "\n",
    "# Add columns for observation date and time period\n",
    "last_two_weeks = last_two_weeks.with_columns([\n",
    "    (\n",
    "            (pl.col(\"date-obs\").dt.hour().is_between(21, 23)) |\n",
    "            (pl.col(\"date-obs\").dt.hour().is_between(0, 3))\n",
    "    ).alias(\"evening\"),\n",
    "    pl.col(\"date-obs\").dt.truncate(\"1d\").alias(\"obs-date\")\n",
    "])\n",
    "\n",
    "# Aggregate data\n",
    "grouped_data = last_two_weeks.group_by(\n",
    "    [\"read-mod\", \"filter\", \"evening\", \"obs-date\"]\n",
    ").agg(\n",
    "    pl.count(\"file\").alias(\"counts\")\n",
    ")\n",
    "\n",
    "# Prepare X-axis labels\n",
    "x_labels = []\n",
    "x_label_ticks = []\n",
    "for i in range(days_back):\n",
    "    day_label = (start_date + timedelta(days=i)).strftime('%d')\n",
    "    x_labels.extend([f\"{day_label}-M\", f\"{day_label}-E\"])\n",
    "    x_label_ticks.append((2 * i) + 0.5)\n",
    "\n",
    "# Prepare data for the heatmap\n",
    "heatmap_data = np.zeros((len(y_labels), len(x_labels)))\n",
    "\n",
    "# Fill the heatmap matrix\n",
    "for row in grouped_data.iter_rows():\n",
    "    mod, filt, eve, date_obs, count = row\n",
    "    if mod in show_read_modes and filt in show_filters:\n",
    "        y_label = f\"{mod}-{filt}\"\n",
    "        if y_label in y_labels:\n",
    "            y_idx = y_labels.index(y_label)\n",
    "            day_idx = date_obs.strftime('%d')\n",
    "            period = 'E' if eve else 'M'\n",
    "            x_idx = x_labels.index(f\"{day_idx}-{period}\")\n",
    "            if count >= threshold:\n",
    "                heatmap_data[y_idx, x_idx] = 0.6  # Brighter green\n",
    "            elif count > 0:\n",
    "                heatmap_data[y_idx, x_idx] = 0.3  # Dot\n",
    "\n",
    "# Create the plot\n",
    "fig, ax = plt.subplots(figsize=(16, len(show_filters) / 4))  # Adjust Y-axis size\n",
    "cax = ax.matshow(heatmap_data, cmap=\"YlGn\", aspect=\"auto\", alpha=0.6)\n",
    "\n",
    "# Add X-axis labels\n",
    "ax.set_xticks(x_label_ticks)\n",
    "ax.set_xticklabels([(start_date + timedelta(days=i)).strftime('%d') for i in range(days_back)])\n",
    "\n",
    "# Add Y-axis labels on the right side\n",
    "ax.set_yticks(np.arange(len(y_labels)))\n",
    "ax.set_yticklabels(y_labels, fontsize=8)\n",
    "ax.yaxis.set_label_position(\"right\")\n",
    "ax.yaxis.tick_right()\n",
    "\n",
    "# Add grid between filters\n",
    "ax.set_xticks(np.arange(-.5, len(x_labels), 2), minor=True)\n",
    "ax.set_yticks(np.arange(-.5, len(y_labels), 1), minor=True)\n",
    "ax.grid(which=\"minor\", color=\"black\", linestyle='-', linewidth=0.5)\n",
    "\n",
    "# Color bar\n",
    "fig.colorbar(cax, ticks=[0, 0.3, 0.6], label=\"Images\")\n",
    "\n",
    "plt.title(\"Images from the Last 14 Days\")\n",
    "plt.show()"
   ],
   "id": "d3097b77362c2d15",
   "outputs": [
    {
     "ename": "ValueError",
     "evalue": "'13-M' is not in list",
     "output_type": "error",
     "traceback": [
      "\u001B[0;31m---------------------------------------------------------------------------\u001B[0m",
      "\u001B[0;31mValueError\u001B[0m                                Traceback (most recent call last)",
      "Cell \u001B[0;32mIn[105], line 61\u001B[0m\n\u001B[1;32m     59\u001B[0m day_idx \u001B[38;5;241m=\u001B[39m date_obs\u001B[38;5;241m.\u001B[39mstrftime(\u001B[38;5;124m'\u001B[39m\u001B[38;5;132;01m%d\u001B[39;00m\u001B[38;5;124m'\u001B[39m)\n\u001B[1;32m     60\u001B[0m period \u001B[38;5;241m=\u001B[39m \u001B[38;5;124m'\u001B[39m\u001B[38;5;124mE\u001B[39m\u001B[38;5;124m'\u001B[39m \u001B[38;5;28;01mif\u001B[39;00m eve \u001B[38;5;28;01melse\u001B[39;00m \u001B[38;5;124m'\u001B[39m\u001B[38;5;124mM\u001B[39m\u001B[38;5;124m'\u001B[39m\n\u001B[0;32m---> 61\u001B[0m x_idx \u001B[38;5;241m=\u001B[39m \u001B[43mx_labels\u001B[49m\u001B[38;5;241;43m.\u001B[39;49m\u001B[43mindex\u001B[49m\u001B[43m(\u001B[49m\u001B[38;5;124;43mf\u001B[39;49m\u001B[38;5;124;43m\"\u001B[39;49m\u001B[38;5;132;43;01m{\u001B[39;49;00m\u001B[43mday_idx\u001B[49m\u001B[38;5;132;43;01m}\u001B[39;49;00m\u001B[38;5;124;43m-\u001B[39;49m\u001B[38;5;132;43;01m{\u001B[39;49;00m\u001B[43mperiod\u001B[49m\u001B[38;5;132;43;01m}\u001B[39;49;00m\u001B[38;5;124;43m\"\u001B[39;49m\u001B[43m)\u001B[49m\n\u001B[1;32m     62\u001B[0m \u001B[38;5;28;01mif\u001B[39;00m count \u001B[38;5;241m>\u001B[39m\u001B[38;5;241m=\u001B[39m threshold:\n\u001B[1;32m     63\u001B[0m     heatmap_data[y_idx, x_idx] \u001B[38;5;241m=\u001B[39m \u001B[38;5;241m0.6\u001B[39m  \u001B[38;5;66;03m# Brighter green\u001B[39;00m\n",
      "\u001B[0;31mValueError\u001B[0m: '13-M' is not in list"
     ]
    }
   ],
   "execution_count": 105
  },
  {
   "metadata": {},
   "cell_type": "code",
   "outputs": [],
   "execution_count": null,
   "source": "",
   "id": "68d92875551eeeaf"
  }
 ],
 "metadata": {
  "kernelspec": {
   "display_name": "Python 3",
   "language": "python",
   "name": "python3"
  },
  "language_info": {
   "codemirror_mode": {
    "name": "ipython",
    "version": 2
   },
   "file_extension": ".py",
   "mimetype": "text/x-python",
   "name": "python",
   "nbconvert_exporter": "python",
   "pygments_lexer": "ipython2",
   "version": "2.7.6"
  }
 },
 "nbformat": 4,
 "nbformat_minor": 5
}
